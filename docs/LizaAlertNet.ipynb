{
  "nbformat": 4,
  "nbformat_minor": 0,
  "metadata": {
    "colab": {
      "name": "Copy of Copy of LizaAlertNet.ipynb",
      "provenance": [],
      "collapsed_sections": []
    },
    "kernelspec": {
      "name": "python3",
      "display_name": "Python 3"
    },
    "language_info": {
      "name": "python"
    },
    "accelerator": "GPU",
    "gpuClass": "standard",
    "widgets": {
      "application/vnd.jupyter.widget-state+json": {
        "a571045d3acf4e78b69bd0306bc5460c": {
          "model_module": "@jupyter-widgets/controls",
          "model_name": "HBoxModel",
          "model_module_version": "1.5.0",
          "state": {
            "_dom_classes": [],
            "_model_module": "@jupyter-widgets/controls",
            "_model_module_version": "1.5.0",
            "_model_name": "HBoxModel",
            "_view_count": null,
            "_view_module": "@jupyter-widgets/controls",
            "_view_module_version": "1.5.0",
            "_view_name": "HBoxView",
            "box_style": "",
            "children": [
              "IPY_MODEL_21e2d1b97be448459f4709607d8cfba5",
              "IPY_MODEL_4fcbf9ad833040708efb815be497f0f3",
              "IPY_MODEL_4e17f212ce794a6bb8fa4f5ab0546b9d"
            ],
            "layout": "IPY_MODEL_2a4baefd1f1f48c8a4939fac353cc75c"
          }
        },
        "21e2d1b97be448459f4709607d8cfba5": {
          "model_module": "@jupyter-widgets/controls",
          "model_name": "HTMLModel",
          "model_module_version": "1.5.0",
          "state": {
            "_dom_classes": [],
            "_model_module": "@jupyter-widgets/controls",
            "_model_module_version": "1.5.0",
            "_model_name": "HTMLModel",
            "_view_count": null,
            "_view_module": "@jupyter-widgets/controls",
            "_view_module_version": "1.5.0",
            "_view_name": "HTMLView",
            "description": "",
            "description_tooltip": null,
            "layout": "IPY_MODEL_c89162f9ab9945f0b478e8c3cf9579f7",
            "placeholder": "​",
            "style": "IPY_MODEL_11ab978dc54043d0beeac3d681f9c965",
            "value": "100%"
          }
        },
        "4fcbf9ad833040708efb815be497f0f3": {
          "model_module": "@jupyter-widgets/controls",
          "model_name": "FloatProgressModel",
          "model_module_version": "1.5.0",
          "state": {
            "_dom_classes": [],
            "_model_module": "@jupyter-widgets/controls",
            "_model_module_version": "1.5.0",
            "_model_name": "FloatProgressModel",
            "_view_count": null,
            "_view_module": "@jupyter-widgets/controls",
            "_view_module_version": "1.5.0",
            "_view_name": "ProgressView",
            "bar_style": "success",
            "description": "",
            "description_tooltip": null,
            "layout": "IPY_MODEL_b5815f2122784487913e13c972f573ac",
            "max": 87319819,
            "min": 0,
            "orientation": "horizontal",
            "style": "IPY_MODEL_9e022916fbab4150bb18d15e5baf1472",
            "value": 87319819
          }
        },
        "4e17f212ce794a6bb8fa4f5ab0546b9d": {
          "model_module": "@jupyter-widgets/controls",
          "model_name": "HTMLModel",
          "model_module_version": "1.5.0",
          "state": {
            "_dom_classes": [],
            "_model_module": "@jupyter-widgets/controls",
            "_model_module_version": "1.5.0",
            "_model_name": "HTMLModel",
            "_view_count": null,
            "_view_module": "@jupyter-widgets/controls",
            "_view_module_version": "1.5.0",
            "_view_name": "HTMLView",
            "description": "",
            "description_tooltip": null,
            "layout": "IPY_MODEL_49137aa352574f6395107e87c1667969",
            "placeholder": "​",
            "style": "IPY_MODEL_cc544a845d024431aa343ab9dbbed5f3",
            "value": " 83.3M/83.3M [00:00&lt;00:00, 95.4MB/s]"
          }
        },
        "2a4baefd1f1f48c8a4939fac353cc75c": {
          "model_module": "@jupyter-widgets/base",
          "model_name": "LayoutModel",
          "model_module_version": "1.2.0",
          "state": {
            "_model_module": "@jupyter-widgets/base",
            "_model_module_version": "1.2.0",
            "_model_name": "LayoutModel",
            "_view_count": null,
            "_view_module": "@jupyter-widgets/base",
            "_view_module_version": "1.2.0",
            "_view_name": "LayoutView",
            "align_content": null,
            "align_items": null,
            "align_self": null,
            "border": null,
            "bottom": null,
            "display": null,
            "flex": null,
            "flex_flow": null,
            "grid_area": null,
            "grid_auto_columns": null,
            "grid_auto_flow": null,
            "grid_auto_rows": null,
            "grid_column": null,
            "grid_gap": null,
            "grid_row": null,
            "grid_template_areas": null,
            "grid_template_columns": null,
            "grid_template_rows": null,
            "height": null,
            "justify_content": null,
            "justify_items": null,
            "left": null,
            "margin": null,
            "max_height": null,
            "max_width": null,
            "min_height": null,
            "min_width": null,
            "object_fit": null,
            "object_position": null,
            "order": null,
            "overflow": null,
            "overflow_x": null,
            "overflow_y": null,
            "padding": null,
            "right": null,
            "top": null,
            "visibility": null,
            "width": null
          }
        },
        "c89162f9ab9945f0b478e8c3cf9579f7": {
          "model_module": "@jupyter-widgets/base",
          "model_name": "LayoutModel",
          "model_module_version": "1.2.0",
          "state": {
            "_model_module": "@jupyter-widgets/base",
            "_model_module_version": "1.2.0",
            "_model_name": "LayoutModel",
            "_view_count": null,
            "_view_module": "@jupyter-widgets/base",
            "_view_module_version": "1.2.0",
            "_view_name": "LayoutView",
            "align_content": null,
            "align_items": null,
            "align_self": null,
            "border": null,
            "bottom": null,
            "display": null,
            "flex": null,
            "flex_flow": null,
            "grid_area": null,
            "grid_auto_columns": null,
            "grid_auto_flow": null,
            "grid_auto_rows": null,
            "grid_column": null,
            "grid_gap": null,
            "grid_row": null,
            "grid_template_areas": null,
            "grid_template_columns": null,
            "grid_template_rows": null,
            "height": null,
            "justify_content": null,
            "justify_items": null,
            "left": null,
            "margin": null,
            "max_height": null,
            "max_width": null,
            "min_height": null,
            "min_width": null,
            "object_fit": null,
            "object_position": null,
            "order": null,
            "overflow": null,
            "overflow_x": null,
            "overflow_y": null,
            "padding": null,
            "right": null,
            "top": null,
            "visibility": null,
            "width": null
          }
        },
        "11ab978dc54043d0beeac3d681f9c965": {
          "model_module": "@jupyter-widgets/controls",
          "model_name": "DescriptionStyleModel",
          "model_module_version": "1.5.0",
          "state": {
            "_model_module": "@jupyter-widgets/controls",
            "_model_module_version": "1.5.0",
            "_model_name": "DescriptionStyleModel",
            "_view_count": null,
            "_view_module": "@jupyter-widgets/base",
            "_view_module_version": "1.2.0",
            "_view_name": "StyleView",
            "description_width": ""
          }
        },
        "b5815f2122784487913e13c972f573ac": {
          "model_module": "@jupyter-widgets/base",
          "model_name": "LayoutModel",
          "model_module_version": "1.2.0",
          "state": {
            "_model_module": "@jupyter-widgets/base",
            "_model_module_version": "1.2.0",
            "_model_name": "LayoutModel",
            "_view_count": null,
            "_view_module": "@jupyter-widgets/base",
            "_view_module_version": "1.2.0",
            "_view_name": "LayoutView",
            "align_content": null,
            "align_items": null,
            "align_self": null,
            "border": null,
            "bottom": null,
            "display": null,
            "flex": null,
            "flex_flow": null,
            "grid_area": null,
            "grid_auto_columns": null,
            "grid_auto_flow": null,
            "grid_auto_rows": null,
            "grid_column": null,
            "grid_gap": null,
            "grid_row": null,
            "grid_template_areas": null,
            "grid_template_columns": null,
            "grid_template_rows": null,
            "height": null,
            "justify_content": null,
            "justify_items": null,
            "left": null,
            "margin": null,
            "max_height": null,
            "max_width": null,
            "min_height": null,
            "min_width": null,
            "object_fit": null,
            "object_position": null,
            "order": null,
            "overflow": null,
            "overflow_x": null,
            "overflow_y": null,
            "padding": null,
            "right": null,
            "top": null,
            "visibility": null,
            "width": null
          }
        },
        "9e022916fbab4150bb18d15e5baf1472": {
          "model_module": "@jupyter-widgets/controls",
          "model_name": "ProgressStyleModel",
          "model_module_version": "1.5.0",
          "state": {
            "_model_module": "@jupyter-widgets/controls",
            "_model_module_version": "1.5.0",
            "_model_name": "ProgressStyleModel",
            "_view_count": null,
            "_view_module": "@jupyter-widgets/base",
            "_view_module_version": "1.2.0",
            "_view_name": "StyleView",
            "bar_color": null,
            "description_width": ""
          }
        },
        "49137aa352574f6395107e87c1667969": {
          "model_module": "@jupyter-widgets/base",
          "model_name": "LayoutModel",
          "model_module_version": "1.2.0",
          "state": {
            "_model_module": "@jupyter-widgets/base",
            "_model_module_version": "1.2.0",
            "_model_name": "LayoutModel",
            "_view_count": null,
            "_view_module": "@jupyter-widgets/base",
            "_view_module_version": "1.2.0",
            "_view_name": "LayoutView",
            "align_content": null,
            "align_items": null,
            "align_self": null,
            "border": null,
            "bottom": null,
            "display": null,
            "flex": null,
            "flex_flow": null,
            "grid_area": null,
            "grid_auto_columns": null,
            "grid_auto_flow": null,
            "grid_auto_rows": null,
            "grid_column": null,
            "grid_gap": null,
            "grid_row": null,
            "grid_template_areas": null,
            "grid_template_columns": null,
            "grid_template_rows": null,
            "height": null,
            "justify_content": null,
            "justify_items": null,
            "left": null,
            "margin": null,
            "max_height": null,
            "max_width": null,
            "min_height": null,
            "min_width": null,
            "object_fit": null,
            "object_position": null,
            "order": null,
            "overflow": null,
            "overflow_x": null,
            "overflow_y": null,
            "padding": null,
            "right": null,
            "top": null,
            "visibility": null,
            "width": null
          }
        },
        "cc544a845d024431aa343ab9dbbed5f3": {
          "model_module": "@jupyter-widgets/controls",
          "model_name": "DescriptionStyleModel",
          "model_module_version": "1.5.0",
          "state": {
            "_model_module": "@jupyter-widgets/controls",
            "_model_module_version": "1.5.0",
            "_model_name": "DescriptionStyleModel",
            "_view_count": null,
            "_view_module": "@jupyter-widgets/base",
            "_view_module_version": "1.2.0",
            "_view_name": "StyleView",
            "description_width": ""
          }
        }
      }
    }
  },
  "cells": [
    {
      "cell_type": "code",
      "execution_count": 1,
      "metadata": {
        "id": "nTCsb70tCVMW"
      },
      "outputs": [],
      "source": [
        "# Предсказание\n",
        "import torch\n",
        "from torch import nn\n",
        "import torchvision\n",
        "import torchvision.transforms as transforms\n",
        "from torchvision import models\n",
        "\n",
        "# Предобработка\n",
        "from PIL import Image\n",
        "from numpy import asarray\n",
        "import numpy as np\n",
        "import pandas as pd\n",
        "from sklearn.model_selection import train_test_split\n",
        "\n"
      ]
    },
    {
      "cell_type": "markdown",
      "source": [
        "# 1. Поработаем с данными\n",
        "\n",
        "- 1.1 Загрузить датасет с гугл диска\n",
        "- 1.2 Конвертировать изображения в формат для pyTorch\n",
        "- 1.3.1 Поделить выборку на validation и train\n",
        "- 1.3.2 Создать подходящий для обучения data_loader \n"
      ],
      "metadata": {
        "id": "1dC7k9RPCfCu"
      }
    },
    {
      "cell_type": "code",
      "source": [
        "COLAB = True"
      ],
      "metadata": {
        "id": "dkJgmr0D-RsL"
      },
      "execution_count": 2,
      "outputs": []
    },
    {
      "cell_type": "code",
      "source": [
        "if COLAB:\n",
        "  from google.colab import drive\n",
        "  drive.mount('/content/gdrive')"
      ],
      "metadata": {
        "colab": {
          "base_uri": "https://localhost:8080/"
        },
        "id": "hQ0cIrC6CYtS",
        "outputId": "8a3bd670-ec93-4b9d-b836-c947df7b6106"
      },
      "execution_count": 3,
      "outputs": [
        {
          "output_type": "stream",
          "name": "stdout",
          "text": [
            "Mounted at /content/gdrive\n"
          ]
        }
      ]
    },
    {
      "cell_type": "code",
      "source": [
        "# this creates a symbolic link so that now the path /content/gdrive/My\\ Drive/ is equal to /mydrive\n",
        "!ln -s /content/gdrive/My\\ Drive/lizaalert /mydrive\n",
        "!ls /mydrive"
      ],
      "metadata": {
        "colab": {
          "base_uri": "https://localhost:8080/"
        },
        "id": "NZbpmoVVDhgl",
        "outputId": "a923524e-6a76-4205-d6ec-30f58e16d64d"
      },
      "execution_count": 4,
      "outputs": [
        {
          "output_type": "stream",
          "name": "stdout",
          "text": [
            "backup\tdata_without_videos  lizaalert\trazm.csv\n"
          ]
        }
      ]
    },
    {
      "cell_type": "code",
      "source": [
        "print(\"Loading CSV...\")\n",
        "liza_alert_data = pd.read_csv(\"/mydrive/razm.csv\" if COLAB else \"TODO:SPECIFY\", encoding=\"UTF-8\")\n",
        "liza_alert_data.head()"
      ],
      "metadata": {
        "colab": {
          "base_uri": "https://localhost:8080/",
          "height": 224
        },
        "id": "Yk-yMqfjKmaL",
        "outputId": "597700be-3276-41bb-9895-69814760c0a1"
      },
      "execution_count": 5,
      "outputs": [
        {
          "output_type": "stream",
          "name": "stdout",
          "text": [
            "Loading CSV...\n"
          ]
        },
        {
          "output_type": "execute_result",
          "data": {
            "text/plain": [
              "                    Названия  Время суток  Время года  Местность  Авиа  \\\n",
              "0  20220116_121426_00306.jpg            0           1          0     0   \n",
              "1             Шерп_00410.jpg            1           3          0     0   \n",
              "2         IMG_3374_00784.jpg            1           0          0     0   \n",
              "3            Закат_00006.jpg            3           3          0     0   \n",
              "4         Вертолет_01563.jpg            1           3          0     1   \n",
              "\n",
              "   Автомобили  БПЛА  Водолаз  Кинолог  Кони  Объятия  Шерп  \n",
              "0           1     1        0        0     0        0     0  \n",
              "1           0     0        0        0     0        0     1  \n",
              "2           0     0        0        0     0        0     0  \n",
              "3           0     0        0        0     0        0     0  \n",
              "4           0     0        0        0     0        0     0  "
            ],
            "text/html": [
              "\n",
              "  <div id=\"df-6a20ee8d-ca50-4da4-b4c4-69c6bb06c008\">\n",
              "    <div class=\"colab-df-container\">\n",
              "      <div>\n",
              "<style scoped>\n",
              "    .dataframe tbody tr th:only-of-type {\n",
              "        vertical-align: middle;\n",
              "    }\n",
              "\n",
              "    .dataframe tbody tr th {\n",
              "        vertical-align: top;\n",
              "    }\n",
              "\n",
              "    .dataframe thead th {\n",
              "        text-align: right;\n",
              "    }\n",
              "</style>\n",
              "<table border=\"1\" class=\"dataframe\">\n",
              "  <thead>\n",
              "    <tr style=\"text-align: right;\">\n",
              "      <th></th>\n",
              "      <th>Названия</th>\n",
              "      <th>Время суток</th>\n",
              "      <th>Время года</th>\n",
              "      <th>Местность</th>\n",
              "      <th>Авиа</th>\n",
              "      <th>Автомобили</th>\n",
              "      <th>БПЛА</th>\n",
              "      <th>Водолаз</th>\n",
              "      <th>Кинолог</th>\n",
              "      <th>Кони</th>\n",
              "      <th>Объятия</th>\n",
              "      <th>Шерп</th>\n",
              "    </tr>\n",
              "  </thead>\n",
              "  <tbody>\n",
              "    <tr>\n",
              "      <th>0</th>\n",
              "      <td>20220116_121426_00306.jpg</td>\n",
              "      <td>0</td>\n",
              "      <td>1</td>\n",
              "      <td>0</td>\n",
              "      <td>0</td>\n",
              "      <td>1</td>\n",
              "      <td>1</td>\n",
              "      <td>0</td>\n",
              "      <td>0</td>\n",
              "      <td>0</td>\n",
              "      <td>0</td>\n",
              "      <td>0</td>\n",
              "    </tr>\n",
              "    <tr>\n",
              "      <th>1</th>\n",
              "      <td>Шерп_00410.jpg</td>\n",
              "      <td>1</td>\n",
              "      <td>3</td>\n",
              "      <td>0</td>\n",
              "      <td>0</td>\n",
              "      <td>0</td>\n",
              "      <td>0</td>\n",
              "      <td>0</td>\n",
              "      <td>0</td>\n",
              "      <td>0</td>\n",
              "      <td>0</td>\n",
              "      <td>1</td>\n",
              "    </tr>\n",
              "    <tr>\n",
              "      <th>2</th>\n",
              "      <td>IMG_3374_00784.jpg</td>\n",
              "      <td>1</td>\n",
              "      <td>0</td>\n",
              "      <td>0</td>\n",
              "      <td>0</td>\n",
              "      <td>0</td>\n",
              "      <td>0</td>\n",
              "      <td>0</td>\n",
              "      <td>0</td>\n",
              "      <td>0</td>\n",
              "      <td>0</td>\n",
              "      <td>0</td>\n",
              "    </tr>\n",
              "    <tr>\n",
              "      <th>3</th>\n",
              "      <td>Закат_00006.jpg</td>\n",
              "      <td>3</td>\n",
              "      <td>3</td>\n",
              "      <td>0</td>\n",
              "      <td>0</td>\n",
              "      <td>0</td>\n",
              "      <td>0</td>\n",
              "      <td>0</td>\n",
              "      <td>0</td>\n",
              "      <td>0</td>\n",
              "      <td>0</td>\n",
              "      <td>0</td>\n",
              "    </tr>\n",
              "    <tr>\n",
              "      <th>4</th>\n",
              "      <td>Вертолет_01563.jpg</td>\n",
              "      <td>1</td>\n",
              "      <td>3</td>\n",
              "      <td>0</td>\n",
              "      <td>1</td>\n",
              "      <td>0</td>\n",
              "      <td>0</td>\n",
              "      <td>0</td>\n",
              "      <td>0</td>\n",
              "      <td>0</td>\n",
              "      <td>0</td>\n",
              "      <td>0</td>\n",
              "    </tr>\n",
              "  </tbody>\n",
              "</table>\n",
              "</div>\n",
              "      <button class=\"colab-df-convert\" onclick=\"convertToInteractive('df-6a20ee8d-ca50-4da4-b4c4-69c6bb06c008')\"\n",
              "              title=\"Convert this dataframe to an interactive table.\"\n",
              "              style=\"display:none;\">\n",
              "        \n",
              "  <svg xmlns=\"http://www.w3.org/2000/svg\" height=\"24px\"viewBox=\"0 0 24 24\"\n",
              "       width=\"24px\">\n",
              "    <path d=\"M0 0h24v24H0V0z\" fill=\"none\"/>\n",
              "    <path d=\"M18.56 5.44l.94 2.06.94-2.06 2.06-.94-2.06-.94-.94-2.06-.94 2.06-2.06.94zm-11 1L8.5 8.5l.94-2.06 2.06-.94-2.06-.94L8.5 2.5l-.94 2.06-2.06.94zm10 10l.94 2.06.94-2.06 2.06-.94-2.06-.94-.94-2.06-.94 2.06-2.06.94z\"/><path d=\"M17.41 7.96l-1.37-1.37c-.4-.4-.92-.59-1.43-.59-.52 0-1.04.2-1.43.59L10.3 9.45l-7.72 7.72c-.78.78-.78 2.05 0 2.83L4 21.41c.39.39.9.59 1.41.59.51 0 1.02-.2 1.41-.59l7.78-7.78 2.81-2.81c.8-.78.8-2.07 0-2.86zM5.41 20L4 18.59l7.72-7.72 1.47 1.35L5.41 20z\"/>\n",
              "  </svg>\n",
              "      </button>\n",
              "      \n",
              "  <style>\n",
              "    .colab-df-container {\n",
              "      display:flex;\n",
              "      flex-wrap:wrap;\n",
              "      gap: 12px;\n",
              "    }\n",
              "\n",
              "    .colab-df-convert {\n",
              "      background-color: #E8F0FE;\n",
              "      border: none;\n",
              "      border-radius: 50%;\n",
              "      cursor: pointer;\n",
              "      display: none;\n",
              "      fill: #1967D2;\n",
              "      height: 32px;\n",
              "      padding: 0 0 0 0;\n",
              "      width: 32px;\n",
              "    }\n",
              "\n",
              "    .colab-df-convert:hover {\n",
              "      background-color: #E2EBFA;\n",
              "      box-shadow: 0px 1px 2px rgba(60, 64, 67, 0.3), 0px 1px 3px 1px rgba(60, 64, 67, 0.15);\n",
              "      fill: #174EA6;\n",
              "    }\n",
              "\n",
              "    [theme=dark] .colab-df-convert {\n",
              "      background-color: #3B4455;\n",
              "      fill: #D2E3FC;\n",
              "    }\n",
              "\n",
              "    [theme=dark] .colab-df-convert:hover {\n",
              "      background-color: #434B5C;\n",
              "      box-shadow: 0px 1px 3px 1px rgba(0, 0, 0, 0.15);\n",
              "      filter: drop-shadow(0px 1px 2px rgba(0, 0, 0, 0.3));\n",
              "      fill: #FFFFFF;\n",
              "    }\n",
              "  </style>\n",
              "\n",
              "      <script>\n",
              "        const buttonEl =\n",
              "          document.querySelector('#df-6a20ee8d-ca50-4da4-b4c4-69c6bb06c008 button.colab-df-convert');\n",
              "        buttonEl.style.display =\n",
              "          google.colab.kernel.accessAllowed ? 'block' : 'none';\n",
              "\n",
              "        async function convertToInteractive(key) {\n",
              "          const element = document.querySelector('#df-6a20ee8d-ca50-4da4-b4c4-69c6bb06c008');\n",
              "          const dataTable =\n",
              "            await google.colab.kernel.invokeFunction('convertToInteractive',\n",
              "                                                     [key], {});\n",
              "          if (!dataTable) return;\n",
              "\n",
              "          const docLinkHtml = 'Like what you see? Visit the ' +\n",
              "            '<a target=\"_blank\" href=https://colab.research.google.com/notebooks/data_table.ipynb>data table notebook</a>'\n",
              "            + ' to learn more about interactive tables.';\n",
              "          element.innerHTML = '';\n",
              "          dataTable['output_type'] = 'display_data';\n",
              "          await google.colab.output.renderOutput(dataTable, element);\n",
              "          const docLink = document.createElement('div');\n",
              "          docLink.innerHTML = docLinkHtml;\n",
              "          element.appendChild(docLink);\n",
              "        }\n",
              "      </script>\n",
              "    </div>\n",
              "  </div>\n",
              "  "
            ]
          },
          "metadata": {},
          "execution_count": 5
        }
      ]
    },
    {
      "cell_type": "code",
      "source": [
        "# Обнаружилось, что в датасете есть непригодные к обучению картинки (непонятного формата)\n",
        "liza_alert_data[~liza_alert_data[\"Названия\"].str.contains('.jpg',case=False)].head()\n",
        "print(\"Процент плохих картинок: \" + str(liza_alert_data[~liza_alert_data[\"Названия\"].str.contains('.jpg',case=False)].shape[0]/liza_alert_data.shape[0] * 100) + '%')\n"
      ],
      "metadata": {
        "colab": {
          "base_uri": "https://localhost:8080/"
        },
        "id": "hf4BPsAusgRn",
        "outputId": "a588958d-159c-44b0-9c23-29444db58af7"
      },
      "execution_count": 6,
      "outputs": [
        {
          "output_type": "stream",
          "name": "stdout",
          "text": [
            "Процент плохих картинок: 0.8745282150418853%\n"
          ]
        }
      ]
    },
    {
      "cell_type": "code",
      "source": [
        "# Уберем непригодные к обучению картинки, поскольку они составляют незначительную часть датасета\n",
        "liza_alert_data = liza_alert_data[liza_alert_data[\"Названия\"].str.contains('.jpg',case=False)]"
      ],
      "metadata": {
        "id": "bRi4iMbYi78N"
      },
      "execution_count": 7,
      "outputs": []
    },
    {
      "cell_type": "code",
      "source": [
        "# Уберем лишние картинки\n",
        "import os\n",
        "liza_alert_data = liza_alert_data[[os.path.isfile('/mydrive/data_without_videos/' + i) for i in liza_alert_data['Названия']]]"
      ],
      "metadata": {
        "id": "yi5yFDjzqFVS"
      },
      "execution_count": 8,
      "outputs": []
    },
    {
      "cell_type": "code",
      "source": [
        "liza_alert_data.head()"
      ],
      "metadata": {
        "colab": {
          "base_uri": "https://localhost:8080/",
          "height": 206
        },
        "id": "1TKkTDaDqmnu",
        "outputId": "7caea52b-b28c-4728-e56f-be6cbd877c34"
      },
      "execution_count": 9,
      "outputs": [
        {
          "output_type": "execute_result",
          "data": {
            "text/plain": [
              "                 Названия  Время суток  Время года  Местность  Авиа  \\\n",
              "3         Закат_00006.jpg            3           3          0     0   \n",
              "14  ночь, осень_00228.jpg            2           4          2     0   \n",
              "15   Кинологи_3030060.jpg            1           4          0     0   \n",
              "21           DSC_4155.jpg            1           1          1     0   \n",
              "23    Водолазы1_00900.jpg            1           0          0     0   \n",
              "\n",
              "    Автомобили  БПЛА  Водолаз  Кинолог  Кони  Объятия  Шерп  \n",
              "3            0     0        0        0     0        0     0  \n",
              "14           1     0        0        0     0        0     0  \n",
              "15           0     0        0        1     0        0     0  \n",
              "21           0     0        0        0     0        0     1  \n",
              "23           0     0        1        0     0        0     0  "
            ],
            "text/html": [
              "\n",
              "  <div id=\"df-53f29081-5eb6-4ce1-9fa8-464fef46e1cb\">\n",
              "    <div class=\"colab-df-container\">\n",
              "      <div>\n",
              "<style scoped>\n",
              "    .dataframe tbody tr th:only-of-type {\n",
              "        vertical-align: middle;\n",
              "    }\n",
              "\n",
              "    .dataframe tbody tr th {\n",
              "        vertical-align: top;\n",
              "    }\n",
              "\n",
              "    .dataframe thead th {\n",
              "        text-align: right;\n",
              "    }\n",
              "</style>\n",
              "<table border=\"1\" class=\"dataframe\">\n",
              "  <thead>\n",
              "    <tr style=\"text-align: right;\">\n",
              "      <th></th>\n",
              "      <th>Названия</th>\n",
              "      <th>Время суток</th>\n",
              "      <th>Время года</th>\n",
              "      <th>Местность</th>\n",
              "      <th>Авиа</th>\n",
              "      <th>Автомобили</th>\n",
              "      <th>БПЛА</th>\n",
              "      <th>Водолаз</th>\n",
              "      <th>Кинолог</th>\n",
              "      <th>Кони</th>\n",
              "      <th>Объятия</th>\n",
              "      <th>Шерп</th>\n",
              "    </tr>\n",
              "  </thead>\n",
              "  <tbody>\n",
              "    <tr>\n",
              "      <th>3</th>\n",
              "      <td>Закат_00006.jpg</td>\n",
              "      <td>3</td>\n",
              "      <td>3</td>\n",
              "      <td>0</td>\n",
              "      <td>0</td>\n",
              "      <td>0</td>\n",
              "      <td>0</td>\n",
              "      <td>0</td>\n",
              "      <td>0</td>\n",
              "      <td>0</td>\n",
              "      <td>0</td>\n",
              "      <td>0</td>\n",
              "    </tr>\n",
              "    <tr>\n",
              "      <th>14</th>\n",
              "      <td>ночь, осень_00228.jpg</td>\n",
              "      <td>2</td>\n",
              "      <td>4</td>\n",
              "      <td>2</td>\n",
              "      <td>0</td>\n",
              "      <td>1</td>\n",
              "      <td>0</td>\n",
              "      <td>0</td>\n",
              "      <td>0</td>\n",
              "      <td>0</td>\n",
              "      <td>0</td>\n",
              "      <td>0</td>\n",
              "    </tr>\n",
              "    <tr>\n",
              "      <th>15</th>\n",
              "      <td>Кинологи_3030060.jpg</td>\n",
              "      <td>1</td>\n",
              "      <td>4</td>\n",
              "      <td>0</td>\n",
              "      <td>0</td>\n",
              "      <td>0</td>\n",
              "      <td>0</td>\n",
              "      <td>0</td>\n",
              "      <td>1</td>\n",
              "      <td>0</td>\n",
              "      <td>0</td>\n",
              "      <td>0</td>\n",
              "    </tr>\n",
              "    <tr>\n",
              "      <th>21</th>\n",
              "      <td>DSC_4155.jpg</td>\n",
              "      <td>1</td>\n",
              "      <td>1</td>\n",
              "      <td>1</td>\n",
              "      <td>0</td>\n",
              "      <td>0</td>\n",
              "      <td>0</td>\n",
              "      <td>0</td>\n",
              "      <td>0</td>\n",
              "      <td>0</td>\n",
              "      <td>0</td>\n",
              "      <td>1</td>\n",
              "    </tr>\n",
              "    <tr>\n",
              "      <th>23</th>\n",
              "      <td>Водолазы1_00900.jpg</td>\n",
              "      <td>1</td>\n",
              "      <td>0</td>\n",
              "      <td>0</td>\n",
              "      <td>0</td>\n",
              "      <td>0</td>\n",
              "      <td>0</td>\n",
              "      <td>1</td>\n",
              "      <td>0</td>\n",
              "      <td>0</td>\n",
              "      <td>0</td>\n",
              "      <td>0</td>\n",
              "    </tr>\n",
              "  </tbody>\n",
              "</table>\n",
              "</div>\n",
              "      <button class=\"colab-df-convert\" onclick=\"convertToInteractive('df-53f29081-5eb6-4ce1-9fa8-464fef46e1cb')\"\n",
              "              title=\"Convert this dataframe to an interactive table.\"\n",
              "              style=\"display:none;\">\n",
              "        \n",
              "  <svg xmlns=\"http://www.w3.org/2000/svg\" height=\"24px\"viewBox=\"0 0 24 24\"\n",
              "       width=\"24px\">\n",
              "    <path d=\"M0 0h24v24H0V0z\" fill=\"none\"/>\n",
              "    <path d=\"M18.56 5.44l.94 2.06.94-2.06 2.06-.94-2.06-.94-.94-2.06-.94 2.06-2.06.94zm-11 1L8.5 8.5l.94-2.06 2.06-.94-2.06-.94L8.5 2.5l-.94 2.06-2.06.94zm10 10l.94 2.06.94-2.06 2.06-.94-2.06-.94-.94-2.06-.94 2.06-2.06.94z\"/><path d=\"M17.41 7.96l-1.37-1.37c-.4-.4-.92-.59-1.43-.59-.52 0-1.04.2-1.43.59L10.3 9.45l-7.72 7.72c-.78.78-.78 2.05 0 2.83L4 21.41c.39.39.9.59 1.41.59.51 0 1.02-.2 1.41-.59l7.78-7.78 2.81-2.81c.8-.78.8-2.07 0-2.86zM5.41 20L4 18.59l7.72-7.72 1.47 1.35L5.41 20z\"/>\n",
              "  </svg>\n",
              "      </button>\n",
              "      \n",
              "  <style>\n",
              "    .colab-df-container {\n",
              "      display:flex;\n",
              "      flex-wrap:wrap;\n",
              "      gap: 12px;\n",
              "    }\n",
              "\n",
              "    .colab-df-convert {\n",
              "      background-color: #E8F0FE;\n",
              "      border: none;\n",
              "      border-radius: 50%;\n",
              "      cursor: pointer;\n",
              "      display: none;\n",
              "      fill: #1967D2;\n",
              "      height: 32px;\n",
              "      padding: 0 0 0 0;\n",
              "      width: 32px;\n",
              "    }\n",
              "\n",
              "    .colab-df-convert:hover {\n",
              "      background-color: #E2EBFA;\n",
              "      box-shadow: 0px 1px 2px rgba(60, 64, 67, 0.3), 0px 1px 3px 1px rgba(60, 64, 67, 0.15);\n",
              "      fill: #174EA6;\n",
              "    }\n",
              "\n",
              "    [theme=dark] .colab-df-convert {\n",
              "      background-color: #3B4455;\n",
              "      fill: #D2E3FC;\n",
              "    }\n",
              "\n",
              "    [theme=dark] .colab-df-convert:hover {\n",
              "      background-color: #434B5C;\n",
              "      box-shadow: 0px 1px 3px 1px rgba(0, 0, 0, 0.15);\n",
              "      filter: drop-shadow(0px 1px 2px rgba(0, 0, 0, 0.3));\n",
              "      fill: #FFFFFF;\n",
              "    }\n",
              "  </style>\n",
              "\n",
              "      <script>\n",
              "        const buttonEl =\n",
              "          document.querySelector('#df-53f29081-5eb6-4ce1-9fa8-464fef46e1cb button.colab-df-convert');\n",
              "        buttonEl.style.display =\n",
              "          google.colab.kernel.accessAllowed ? 'block' : 'none';\n",
              "\n",
              "        async function convertToInteractive(key) {\n",
              "          const element = document.querySelector('#df-53f29081-5eb6-4ce1-9fa8-464fef46e1cb');\n",
              "          const dataTable =\n",
              "            await google.colab.kernel.invokeFunction('convertToInteractive',\n",
              "                                                     [key], {});\n",
              "          if (!dataTable) return;\n",
              "\n",
              "          const docLinkHtml = 'Like what you see? Visit the ' +\n",
              "            '<a target=\"_blank\" href=https://colab.research.google.com/notebooks/data_table.ipynb>data table notebook</a>'\n",
              "            + ' to learn more about interactive tables.';\n",
              "          element.innerHTML = '';\n",
              "          dataTable['output_type'] = 'display_data';\n",
              "          await google.colab.output.renderOutput(dataTable, element);\n",
              "          const docLink = document.createElement('div');\n",
              "          docLink.innerHTML = docLinkHtml;\n",
              "          element.appendChild(docLink);\n",
              "        }\n",
              "      </script>\n",
              "    </div>\n",
              "  </div>\n",
              "  "
            ]
          },
          "metadata": {},
          "execution_count": 9
        }
      ]
    },
    {
      "cell_type": "code",
      "source": [
        "# Проверим на NaN\n",
        "liza_alert_data.isnull().any()"
      ],
      "metadata": {
        "colab": {
          "base_uri": "https://localhost:8080/"
        },
        "id": "vGOCo-j0xcxw",
        "outputId": "f2a9733a-1cd6-4ede-c899-d7f9bb5cbdaf"
      },
      "execution_count": 10,
      "outputs": [
        {
          "output_type": "execute_result",
          "data": {
            "text/plain": [
              "Названия       False\n",
              "Время суток    False\n",
              "Время года     False\n",
              "Местность      False\n",
              "Авиа           False\n",
              "Автомобили     False\n",
              "БПЛА           False\n",
              "Водолаз        False\n",
              "Кинолог        False\n",
              "Кони           False\n",
              "Объятия        False\n",
              "Шерп           False\n",
              "dtype: bool"
            ]
          },
          "metadata": {},
          "execution_count": 10
        }
      ]
    },
    {
      "cell_type": "markdown",
      "source": [
        "Сейчас датасет почти в готовом состоянии - но осталось:\n",
        "\n",
        "- Заменить названия картинок на сами картинки\n",
        "- Применить one-hot encoding для времени суток \\ года как для категориальных признаков."
      ],
      "metadata": {
        "id": "ujHXaiolMdGb"
      }
    },
    {
      "cell_type": "markdown",
      "source": [
        "# One-hot encoding? - Неее\n",
        "Было выявлено три категориальных признака:\n",
        "- Время суток\n",
        "- Время года\n",
        "- Местность\n",
        "\n",
        "Мы раздробили задачу на множество подзадач многоклассовой классификации - поэтому категориальные признаки, собранные в одном месте это лучшая подмога нам, поскольку мыслительный процесс нейросети касательно дня \\ ночи будет проходить в одном месте, и следственно обучаться проще.\n"
      ],
      "metadata": {
        "id": "KgLnQt2OvWiZ"
      }
    },
    {
      "cell_type": "code",
      "source": [
        "# # Заменим время суток на названия\n",
        "# def numToDayTime(num):\n",
        "#   if num == 0:\n",
        "#     return 'NoDayTime'\n",
        "#   if num == 1:\n",
        "#     return 'День'\n",
        "#   if num == 2:\n",
        "#     return 'Ночь'\n",
        "#   if num == 3:\n",
        "#     return 'Рассвет/закат'\n",
        "# transform = transforms.ToTensor()\n",
        "# liza_alert_data['Время суток'] = liza_alert_data['Время суток'].map(numToDayTime)\n",
        "# liza_alert_data.head()"
      ],
      "metadata": {
        "id": "ZqWFsm87TMLf"
      },
      "execution_count": 11,
      "outputs": []
    },
    {
      "cell_type": "code",
      "source": [
        "# # Заменим время года на названия\n",
        "# def numToYearTime(num):\n",
        "#   if num == 0:\n",
        "#     return 'NoYearTime'\n",
        "#   if num == 1:\n",
        "#     return 'Зима'\n",
        "#   if num == 2:\n",
        "#     return 'Весна'\n",
        "#   if num == 3:\n",
        "#     return 'Лето'\n",
        "#   if num == 4:\n",
        "#     return 'Осень'\n",
        "# transform = transforms.ToTensor()\n",
        "# liza_alert_data['Время года'] = liza_alert_data['Время года'].map(numToYearTime)\n",
        "# liza_alert_data.head()"
      ],
      "metadata": {
        "id": "lYQ3g4LxTUx2"
      },
      "execution_count": 12,
      "outputs": []
    },
    {
      "cell_type": "code",
      "source": [
        "# # Заменим местность на названия\n",
        "# def numToPlace(num):\n",
        "#   if num == 0:\n",
        "#     return 'NoPlace'\n",
        "#   if num == 1:\n",
        "#     return 'Лес'\n",
        "#   if num == 2:\n",
        "#     return 'Город'\n",
        "# transform = transforms.ToTensor()\n",
        "# liza_alert_data['Местность'] = liza_alert_data['Местность'].map(numToPlace)\n",
        "# liza_alert_data.head()"
      ],
      "metadata": {
        "id": "Iezs_XCKv2Bj"
      },
      "execution_count": 13,
      "outputs": []
    },
    {
      "cell_type": "code",
      "source": [
        "# # One-hot encoding \n",
        "# dummy1 = pd.get_dummies(liza_alert_data['Время суток'], drop_first=True)\n",
        "# dummy1.head()"
      ],
      "metadata": {
        "id": "Mry6o_LlSl3r"
      },
      "execution_count": 14,
      "outputs": []
    },
    {
      "cell_type": "code",
      "source": [
        "# # One-hot encoding\n",
        "# dummy2 = pd.get_dummies(liza_alert_data['Время года'], drop_first=True)\n",
        "# dummy2.head()"
      ],
      "metadata": {
        "id": "GY-Lh2UJUghW"
      },
      "execution_count": 15,
      "outputs": []
    },
    {
      "cell_type": "code",
      "source": [
        "# # One-hot encoding\n",
        "# dummy3 = pd.get_dummies(liza_alert_data['Местность'], drop_first=True)\n",
        "# dummy3.head()"
      ],
      "metadata": {
        "id": "Q6bOqFEkwPpD"
      },
      "execution_count": 16,
      "outputs": []
    },
    {
      "cell_type": "code",
      "source": [
        "# liza_alert_data = pd.concat([liza_alert_data, dummy1], axis=1).drop('Время суток', axis=1)\n",
        "# liza_alert_data = pd.concat([liza_alert_data, dummy2], axis=1).drop('Время года', axis=1)\n",
        "# liza_alert_data = pd.concat([liza_alert_data, dummy3], axis=1).drop('Местность', axis=1)\n",
        "\n",
        "# liza_alert_data.head()"
      ],
      "metadata": {
        "id": "RYO7K7cAVB3N"
      },
      "execution_count": 17,
      "outputs": []
    },
    {
      "cell_type": "code",
      "source": [
        "train_data = liza_alert_data"
      ],
      "metadata": {
        "id": "0HqUDIMhKIqP"
      },
      "execution_count": 18,
      "outputs": []
    },
    {
      "cell_type": "code",
      "source": [
        "train_data.head()"
      ],
      "metadata": {
        "colab": {
          "base_uri": "https://localhost:8080/",
          "height": 206
        },
        "id": "7xYouoWfNCZd",
        "outputId": "85464ffc-ec6f-4f66-b2fc-1e1b085fb187"
      },
      "execution_count": 19,
      "outputs": [
        {
          "output_type": "execute_result",
          "data": {
            "text/plain": [
              "                 Названия  Время суток  Время года  Местность  Авиа  \\\n",
              "3         Закат_00006.jpg            3           3          0     0   \n",
              "14  ночь, осень_00228.jpg            2           4          2     0   \n",
              "15   Кинологи_3030060.jpg            1           4          0     0   \n",
              "21           DSC_4155.jpg            1           1          1     0   \n",
              "23    Водолазы1_00900.jpg            1           0          0     0   \n",
              "\n",
              "    Автомобили  БПЛА  Водолаз  Кинолог  Кони  Объятия  Шерп  \n",
              "3            0     0        0        0     0        0     0  \n",
              "14           1     0        0        0     0        0     0  \n",
              "15           0     0        0        1     0        0     0  \n",
              "21           0     0        0        0     0        0     1  \n",
              "23           0     0        1        0     0        0     0  "
            ],
            "text/html": [
              "\n",
              "  <div id=\"df-8b9e4c64-3390-49e3-a042-e69cbf4e3f0e\">\n",
              "    <div class=\"colab-df-container\">\n",
              "      <div>\n",
              "<style scoped>\n",
              "    .dataframe tbody tr th:only-of-type {\n",
              "        vertical-align: middle;\n",
              "    }\n",
              "\n",
              "    .dataframe tbody tr th {\n",
              "        vertical-align: top;\n",
              "    }\n",
              "\n",
              "    .dataframe thead th {\n",
              "        text-align: right;\n",
              "    }\n",
              "</style>\n",
              "<table border=\"1\" class=\"dataframe\">\n",
              "  <thead>\n",
              "    <tr style=\"text-align: right;\">\n",
              "      <th></th>\n",
              "      <th>Названия</th>\n",
              "      <th>Время суток</th>\n",
              "      <th>Время года</th>\n",
              "      <th>Местность</th>\n",
              "      <th>Авиа</th>\n",
              "      <th>Автомобили</th>\n",
              "      <th>БПЛА</th>\n",
              "      <th>Водолаз</th>\n",
              "      <th>Кинолог</th>\n",
              "      <th>Кони</th>\n",
              "      <th>Объятия</th>\n",
              "      <th>Шерп</th>\n",
              "    </tr>\n",
              "  </thead>\n",
              "  <tbody>\n",
              "    <tr>\n",
              "      <th>3</th>\n",
              "      <td>Закат_00006.jpg</td>\n",
              "      <td>3</td>\n",
              "      <td>3</td>\n",
              "      <td>0</td>\n",
              "      <td>0</td>\n",
              "      <td>0</td>\n",
              "      <td>0</td>\n",
              "      <td>0</td>\n",
              "      <td>0</td>\n",
              "      <td>0</td>\n",
              "      <td>0</td>\n",
              "      <td>0</td>\n",
              "    </tr>\n",
              "    <tr>\n",
              "      <th>14</th>\n",
              "      <td>ночь, осень_00228.jpg</td>\n",
              "      <td>2</td>\n",
              "      <td>4</td>\n",
              "      <td>2</td>\n",
              "      <td>0</td>\n",
              "      <td>1</td>\n",
              "      <td>0</td>\n",
              "      <td>0</td>\n",
              "      <td>0</td>\n",
              "      <td>0</td>\n",
              "      <td>0</td>\n",
              "      <td>0</td>\n",
              "    </tr>\n",
              "    <tr>\n",
              "      <th>15</th>\n",
              "      <td>Кинологи_3030060.jpg</td>\n",
              "      <td>1</td>\n",
              "      <td>4</td>\n",
              "      <td>0</td>\n",
              "      <td>0</td>\n",
              "      <td>0</td>\n",
              "      <td>0</td>\n",
              "      <td>0</td>\n",
              "      <td>1</td>\n",
              "      <td>0</td>\n",
              "      <td>0</td>\n",
              "      <td>0</td>\n",
              "    </tr>\n",
              "    <tr>\n",
              "      <th>21</th>\n",
              "      <td>DSC_4155.jpg</td>\n",
              "      <td>1</td>\n",
              "      <td>1</td>\n",
              "      <td>1</td>\n",
              "      <td>0</td>\n",
              "      <td>0</td>\n",
              "      <td>0</td>\n",
              "      <td>0</td>\n",
              "      <td>0</td>\n",
              "      <td>0</td>\n",
              "      <td>0</td>\n",
              "      <td>1</td>\n",
              "    </tr>\n",
              "    <tr>\n",
              "      <th>23</th>\n",
              "      <td>Водолазы1_00900.jpg</td>\n",
              "      <td>1</td>\n",
              "      <td>0</td>\n",
              "      <td>0</td>\n",
              "      <td>0</td>\n",
              "      <td>0</td>\n",
              "      <td>0</td>\n",
              "      <td>1</td>\n",
              "      <td>0</td>\n",
              "      <td>0</td>\n",
              "      <td>0</td>\n",
              "      <td>0</td>\n",
              "    </tr>\n",
              "  </tbody>\n",
              "</table>\n",
              "</div>\n",
              "      <button class=\"colab-df-convert\" onclick=\"convertToInteractive('df-8b9e4c64-3390-49e3-a042-e69cbf4e3f0e')\"\n",
              "              title=\"Convert this dataframe to an interactive table.\"\n",
              "              style=\"display:none;\">\n",
              "        \n",
              "  <svg xmlns=\"http://www.w3.org/2000/svg\" height=\"24px\"viewBox=\"0 0 24 24\"\n",
              "       width=\"24px\">\n",
              "    <path d=\"M0 0h24v24H0V0z\" fill=\"none\"/>\n",
              "    <path d=\"M18.56 5.44l.94 2.06.94-2.06 2.06-.94-2.06-.94-.94-2.06-.94 2.06-2.06.94zm-11 1L8.5 8.5l.94-2.06 2.06-.94-2.06-.94L8.5 2.5l-.94 2.06-2.06.94zm10 10l.94 2.06.94-2.06 2.06-.94-2.06-.94-.94-2.06-.94 2.06-2.06.94z\"/><path d=\"M17.41 7.96l-1.37-1.37c-.4-.4-.92-.59-1.43-.59-.52 0-1.04.2-1.43.59L10.3 9.45l-7.72 7.72c-.78.78-.78 2.05 0 2.83L4 21.41c.39.39.9.59 1.41.59.51 0 1.02-.2 1.41-.59l7.78-7.78 2.81-2.81c.8-.78.8-2.07 0-2.86zM5.41 20L4 18.59l7.72-7.72 1.47 1.35L5.41 20z\"/>\n",
              "  </svg>\n",
              "      </button>\n",
              "      \n",
              "  <style>\n",
              "    .colab-df-container {\n",
              "      display:flex;\n",
              "      flex-wrap:wrap;\n",
              "      gap: 12px;\n",
              "    }\n",
              "\n",
              "    .colab-df-convert {\n",
              "      background-color: #E8F0FE;\n",
              "      border: none;\n",
              "      border-radius: 50%;\n",
              "      cursor: pointer;\n",
              "      display: none;\n",
              "      fill: #1967D2;\n",
              "      height: 32px;\n",
              "      padding: 0 0 0 0;\n",
              "      width: 32px;\n",
              "    }\n",
              "\n",
              "    .colab-df-convert:hover {\n",
              "      background-color: #E2EBFA;\n",
              "      box-shadow: 0px 1px 2px rgba(60, 64, 67, 0.3), 0px 1px 3px 1px rgba(60, 64, 67, 0.15);\n",
              "      fill: #174EA6;\n",
              "    }\n",
              "\n",
              "    [theme=dark] .colab-df-convert {\n",
              "      background-color: #3B4455;\n",
              "      fill: #D2E3FC;\n",
              "    }\n",
              "\n",
              "    [theme=dark] .colab-df-convert:hover {\n",
              "      background-color: #434B5C;\n",
              "      box-shadow: 0px 1px 3px 1px rgba(0, 0, 0, 0.15);\n",
              "      filter: drop-shadow(0px 1px 2px rgba(0, 0, 0, 0.3));\n",
              "      fill: #FFFFFF;\n",
              "    }\n",
              "  </style>\n",
              "\n",
              "      <script>\n",
              "        const buttonEl =\n",
              "          document.querySelector('#df-8b9e4c64-3390-49e3-a042-e69cbf4e3f0e button.colab-df-convert');\n",
              "        buttonEl.style.display =\n",
              "          google.colab.kernel.accessAllowed ? 'block' : 'none';\n",
              "\n",
              "        async function convertToInteractive(key) {\n",
              "          const element = document.querySelector('#df-8b9e4c64-3390-49e3-a042-e69cbf4e3f0e');\n",
              "          const dataTable =\n",
              "            await google.colab.kernel.invokeFunction('convertToInteractive',\n",
              "                                                     [key], {});\n",
              "          if (!dataTable) return;\n",
              "\n",
              "          const docLinkHtml = 'Like what you see? Visit the ' +\n",
              "            '<a target=\"_blank\" href=https://colab.research.google.com/notebooks/data_table.ipynb>data table notebook</a>'\n",
              "            + ' to learn more about interactive tables.';\n",
              "          element.innerHTML = '';\n",
              "          dataTable['output_type'] = 'display_data';\n",
              "          await google.colab.output.renderOutput(dataTable, element);\n",
              "          const docLink = document.createElement('div');\n",
              "          docLink.innerHTML = docLinkHtml;\n",
              "          element.appendChild(docLink);\n",
              "        }\n",
              "      </script>\n",
              "    </div>\n",
              "  </div>\n",
              "  "
            ]
          },
          "metadata": {},
          "execution_count": 19
        }
      ]
    },
    {
      "cell_type": "markdown",
      "source": [
        "# Пишем кастомный датасет"
      ],
      "metadata": {
        "id": "dPbuZ1e4rnDN"
      }
    },
    {
      "cell_type": "code",
      "source": [
        "# Напишем кастомный датасет для pyTorch\n",
        "\n",
        "from torch.utils.data import Dataset, DataLoader\n",
        "import cv2\n",
        "import os\n",
        "class LizaAlertDataset(Dataset):\n",
        "    def __init__(self, pandasFrame, transform, basedir, part):\n",
        "        # initialize the arrays to store the ground truth labels and paths to the images\n",
        "        self.image_paths = []\n",
        "        # self.avia = []\n",
        "        # self.color_labels = []\n",
        "        # self.gender_labels = []\n",
        "        # self.article_labels = []\n",
        "\n",
        "        self.image_paths = pandasFrame['Названия'].values\n",
        "        self.images = []\n",
        "\n",
        "        self.label_avia = pandasFrame['Авиа'].values\n",
        "        self.label_auto = pandasFrame['Автомобили'].values\n",
        "        self.label_bpla = pandasFrame['БПЛА'].values\n",
        "        self.label_diver = pandasFrame['Водолаз'].values\n",
        "        self.label_cynologist = pandasFrame['Кинолог'].values\n",
        "        self.label_horses = pandasFrame['Кони'].values\n",
        "        self.label_hugs = pandasFrame['Объятия'].values\n",
        "        self.label_sherp = pandasFrame['Шерп'].values\n",
        "        self.label_timeday = pandasFrame['Время суток'].values\n",
        "        self.label_timeyear = pandasFrame['Время года'].values        \n",
        "        self.label_place = pandasFrame['Местность'].values\n",
        "\n",
        "        self.transform = transform\n",
        "        self.basedir = basedir\n",
        "\n",
        "\n",
        "\n",
        "        # Load self.images\n",
        "        self.part = part\n",
        "        n_images = 0\n",
        "        for img_path in self.image_paths:\n",
        "           img = Image.open(self.basedir + '/' + img_path)\n",
        "           if self.transform:\n",
        "             img = self.transform(img)\n",
        "           self.images.append(img)\n",
        "           n_images += 1\n",
        "           if (n_images % 50 == 0):\n",
        "              print(f\"{n_images} from {len(self.image_paths)/(1/part)}\")\n",
        "           if (n_images > len(self.image_paths)/(1/part)):\n",
        "             print(str(n_images) + \" has been loaded\")\n",
        "             break\n",
        "       \n",
        "\n",
        "        self.classes = [\n",
        "          'label_avia',\n",
        "          'label_auto',\n",
        "          'label_bpla',\n",
        "          'label_diver',\n",
        "          'label_cynologist',\n",
        "          'label_horses',\n",
        "          'label_hugs',\n",
        "          'label_sherp',\n",
        "          'label_timeday',\n",
        "          'label_timeyear',\n",
        "          'label_place',\n",
        "        ]\n",
        "\n",
        "\n",
        "\n",
        "    def __len__(self):\n",
        "        return len(self.images)\n",
        "\n",
        "    def __getitem__(self, idx):\n",
        "        dict_data = {\n",
        "            'image': self.images[idx],\n",
        "            'labels':{\n",
        "                'label_avia': self.label_avia[idx],\n",
        "                'label_auto': self.label_auto[idx],\n",
        "                'label_bpla': self.label_bpla[idx],\n",
        "                'label_diver': self.label_diver[idx],\n",
        "                'label_cynologist': self.label_cynologist[idx],\n",
        "                'label_horses': self.label_horses[idx],\n",
        "                'label_hugs': self.label_hugs[idx],\n",
        "                'label_sherp': self.label_sherp[idx],\n",
        "                'label_timeday': self.label_timeday[idx],\n",
        "                'label_timeyear': self.label_timeyear[idx],\n",
        "                'label_place': self.label_place[idx],\n",
        "            },\n",
        "        }\n",
        "      \n",
        "        \n",
        "        return dict_data"
      ],
      "metadata": {
        "id": "WQQgFmCuJ-Dg"
      },
      "execution_count": 20,
      "outputs": []
    },
    {
      "cell_type": "code",
      "source": [
        "transform = transforms.Compose( \n",
        "            [\n",
        "              transforms.Resize((256,256)),\n",
        "              # transforms.RandomCrop(224),\n",
        "              transforms.ToTensor()\n",
        "            ]\n",
        "        )\n",
        "# Самый времязатратный процесс\n",
        "lad = LizaAlertDataset(train_data, transform=transform, basedir='/mydrive/data_without_videos', part=0.65)\n",
        "print(len(lad))"
      ],
      "metadata": {
        "id": "KNMGzaHgKUr7",
        "colab": {
          "base_uri": "https://localhost:8080/"
        },
        "outputId": "81fa9e7d-ac6f-4c3d-a9ee-bc23399e8de7"
      },
      "execution_count": 21,
      "outputs": [
        {
          "output_type": "stream",
          "name": "stdout",
          "text": [
            "50 from 3013.4\n",
            "100 from 3013.4\n",
            "150 from 3013.4\n",
            "200 from 3013.4\n",
            "250 from 3013.4\n",
            "300 from 3013.4\n",
            "350 from 3013.4\n",
            "400 from 3013.4\n",
            "450 from 3013.4\n",
            "500 from 3013.4\n",
            "550 from 3013.4\n",
            "600 from 3013.4\n",
            "650 from 3013.4\n",
            "700 from 3013.4\n",
            "750 from 3013.4\n",
            "800 from 3013.4\n",
            "850 from 3013.4\n",
            "900 from 3013.4\n",
            "950 from 3013.4\n",
            "1000 from 3013.4\n",
            "1050 from 3013.4\n",
            "1100 from 3013.4\n",
            "1150 from 3013.4\n",
            "1200 from 3013.4\n",
            "1250 from 3013.4\n",
            "1300 from 3013.4\n",
            "1350 from 3013.4\n",
            "1400 from 3013.4\n",
            "1450 from 3013.4\n",
            "1500 from 3013.4\n",
            "1550 from 3013.4\n",
            "1600 from 3013.4\n",
            "1650 from 3013.4\n",
            "1700 from 3013.4\n",
            "1750 from 3013.4\n",
            "1800 from 3013.4\n",
            "1850 from 3013.4\n",
            "1900 from 3013.4\n",
            "1950 from 3013.4\n",
            "2000 from 3013.4\n",
            "2050 from 3013.4\n",
            "2100 from 3013.4\n",
            "2150 from 3013.4\n",
            "2200 from 3013.4\n",
            "2250 from 3013.4\n",
            "2300 from 3013.4\n",
            "2350 from 3013.4\n",
            "2400 from 3013.4\n",
            "2450 from 3013.4\n",
            "2500 from 3013.4\n",
            "2550 from 3013.4\n",
            "2600 from 3013.4\n",
            "2650 from 3013.4\n",
            "2700 from 3013.4\n",
            "2750 from 3013.4\n",
            "2800 from 3013.4\n",
            "2850 from 3013.4\n",
            "2900 from 3013.4\n",
            "2950 from 3013.4\n",
            "3000 from 3013.4\n",
            "3014 has been loaded\n",
            "3014\n"
          ]
        }
      ]
    },
    {
      "cell_type": "code",
      "source": [
        "import matplotlib.pyplot as plt\n",
        "from pprint import pprint\n",
        "idx = 0\n",
        "plt.imshow(np.asarray(np.asarray(lad[idx]['image'].squeeze().permute(1,2,0))))\n",
        "plt.show()\n",
        "pprint([f'{k}: {v}' for k,v in lad[idx]['labels'].items()])"
      ],
      "metadata": {
        "colab": {
          "base_uri": "https://localhost:8080/",
          "height": 460
        },
        "id": "KrMIqlTvQsKI",
        "outputId": "cab128e1-54c7-4063-ea40-9ba2ac381809"
      },
      "execution_count": 22,
      "outputs": [
        {
          "output_type": "display_data",
          "data": {
            "text/plain": [
              "<Figure size 432x288 with 1 Axes>"
            ],
            "image/png": "[encoded data removed]"
          },
          "metadata": {
            "needs_background": "light"
          }
        },
        {
          "output_type": "stream",
          "name": "stdout",
          "text": [
            "['label_avia: 0',\n",
            " 'label_auto: 0',\n",
            " 'label_bpla: 0',\n",
            " 'label_diver: 0',\n",
            " 'label_cynologist: 0',\n",
            " 'label_horses: 0',\n",
            " 'label_hugs: 0',\n",
            " 'label_sherp: 0',\n",
            " 'label_timeday: 3',\n",
            " 'label_timeyear: 3',\n",
            " 'label_place: 0']\n"
          ]
        }
      ]
    },
    {
      "cell_type": "markdown",
      "source": [
        "# Поделим данные на тест и валидацию, и загрузим в DataLoader'ы"
      ],
      "metadata": {
        "id": "-QH79_5suMc-"
      }
    },
    {
      "cell_type": "code",
      "source": [
        "batch_size = 128\n",
        "max_epoch_number = 120\n",
        "learning_rate = 1e-3\n",
        "from torch.utils.data import DataLoader\n",
        "training_data, test_data = torch.utils.data.random_split(lad, [int(2*len(lad)/4), int(2*len(lad)/4)], generator=torch.Generator().manual_seed(42))\n",
        "train_loader = DataLoader(training_data, batch_size=batch_size, shuffle=True)\n",
        "test_loader = DataLoader(test_data, batch_size=batch_size, shuffle=True)\n",
        "print(len(train_loader))\n",
        "print(len(test_loader))"
      ],
      "metadata": {
        "colab": {
          "base_uri": "https://localhost:8080/"
        },
        "id": "U1yVrch_tdxa",
        "outputId": "b3107b31-46e3-4766-caa6-46a94015f52f"
      },
      "execution_count": 23,
      "outputs": [
        {
          "output_type": "stream",
          "name": "stdout",
          "text": [
            "12\n",
            "12\n"
          ]
        }
      ]
    },
    {
      "cell_type": "code",
      "source": [
        "sample = next(iter(train_loader))"
      ],
      "metadata": {
        "id": "p7iHTz_jseB2"
      },
      "execution_count": 24,
      "outputs": []
    },
    {
      "cell_type": "code",
      "source": [
        "print(\"Keys in our sample batch: {}\".format(sample.keys()))\n",
        "print(\"Size for the images in our sample batch: {}\".format(sample['image'].shape))\n",
        "print(\"Size for the target in our sample batch: {}\".format(sample['labels']['label_timeday'].shape))\n",
        "print(\"Targets for each batch in our sample: {}\".format(sample['labels']['label_timeyear']))"
      ],
      "metadata": {
        "colab": {
          "base_uri": "https://localhost:8080/"
        },
        "id": "acOnCHGisc8u",
        "outputId": "8cd1fa6a-1ad5-4b3f-bb3e-0459b241e715"
      },
      "execution_count": 25,
      "outputs": [
        {
          "output_type": "stream",
          "name": "stdout",
          "text": [
            "Keys in our sample batch: dict_keys(['image', 'labels'])\n",
            "Size for the images in our sample batch: torch.Size([128, 3, 256, 256])\n",
            "Size for the target in our sample batch: torch.Size([128])\n",
            "Targets for each batch in our sample: tensor([4, 0, 3, 4, 0, 0, 4, 4, 3, 3, 0, 3, 0, 2, 0, 0, 3, 0, 4, 0, 0, 0, 1, 3,\n",
            "        1, 3, 0, 3, 4, 3, 0, 0, 4, 3, 3, 0, 4, 0, 3, 3, 0, 3, 3, 0, 3, 3, 3, 0,\n",
            "        3, 0, 4, 0, 0, 4, 4, 3, 0, 0, 3, 3, 0, 3, 3, 3, 4, 3, 1, 2, 4, 0, 0, 0,\n",
            "        3, 0, 4, 0, 2, 0, 0, 0, 3, 4, 4, 3, 2, 3, 4, 0, 1, 3, 0, 0, 0, 3, 0, 0,\n",
            "        4, 4, 1, 1, 3, 3, 3, 0, 3, 3, 0, 3, 4, 3, 0, 3, 4, 2, 0, 0, 3, 0, 3, 0,\n",
            "        0, 3, 3, 0, 4, 4, 0, 3])\n"
          ]
        }
      ]
    },
    {
      "cell_type": "markdown",
      "source": [
        "# Наша модель - основанная на resnet34"
      ],
      "metadata": {
        "id": "QpzIEithqdpJ"
      }
    },
    {
      "cell_type": "code",
      "source": [
        "class MultilabelClassifier(torch.nn.Module):\n",
        "    def __init__(self, \n",
        "          n_avia=2, \n",
        "          n_auto=2,                \n",
        "          n_bpla=2,\n",
        "          n_diver=2,\n",
        "          n_cynologist=2,\n",
        "          n_horses=2,\n",
        "          n_hugs=2,\n",
        "          n_sherp=2,\n",
        "          n_timeOfTheDay=4,\n",
        "          n_timeOfTheYear=5,\n",
        "          n_place=3,       \n",
        "        ):\n",
        "        super().__init__()\n",
        "        self.resnet = torchvision.models.resnet34(pretrained=True)\n",
        "        self.model_wo_fc = torch.nn.Sequential(*(list(self.resnet.children())[:-1]))\n",
        "\n",
        "\n",
        "\n",
        "        self.avia = torch.nn.Sequential(\n",
        "            torch.nn.Dropout(p=0.2),\n",
        "            torch.nn.Linear(in_features=512, out_features=n_avia),\n",
        "            # torch.nn.Softmax()\n",
        "        )\n",
        "        self.auto = torch.nn.Sequential(\n",
        "            torch.nn.Dropout(p=0.2),\n",
        "            torch.nn.Linear(in_features=512, out_features=n_auto),\n",
        "            # torch.nn.Softmax()\n",
        "        )\n",
        "\n",
        "        self.bpla = torch.nn.Sequential(\n",
        "            torch.nn.Dropout(p=0.2),\n",
        "            torch.nn.Linear(in_features=512, out_features=n_bpla),\n",
        "            # torch.nn.Softmax()\n",
        "        )\n",
        "        self.diver = torch.nn.Sequential(\n",
        "            torch.nn.Dropout(p=0.2),\n",
        "            torch.nn.Linear(in_features=512, out_features=n_diver),\n",
        "            # torch.nn.Softmax()\n",
        "        )\n",
        "        self.cynologist = torch.nn.Sequential(\n",
        "            torch.nn.Dropout(p=0.2),\n",
        "            torch.nn.Linear(in_features=512, out_features=n_cynologist),\n",
        "            # torch.nn.Softmax()\n",
        "        )\n",
        "        self.horses = torch.nn.Sequential(\n",
        "            torch.nn.Dropout(p=0.2),\n",
        "            torch.nn.Linear(in_features=512, out_features=n_horses),\n",
        "            # torch.nn.Softmax()\n",
        "        )\n",
        "        self.hugs = torch.nn.Sequential(\n",
        "            torch.nn.Dropout(p=0.2),\n",
        "            torch.nn.Linear(in_features=512, out_features=n_hugs),\n",
        "            # torch.nn.Softmax()\n",
        "        )\n",
        "        self.sherp = torch.nn.Sequential(\n",
        "            torch.nn.Dropout(p=0.2),\n",
        "            torch.nn.Linear(in_features=512, out_features=n_sherp),\n",
        "            # torch.nn.Softmax()\n",
        "        )\n",
        "        self.timeOfTheDay = torch.nn.Sequential(\n",
        "            torch.nn.Dropout(p=0.2),\n",
        "            torch.nn.Linear(in_features=512, out_features=n_timeOfTheDay),\n",
        "            # torch.nn.Softmax()\n",
        "        )\n",
        "        self.timeOfTheYear = torch.nn.Sequential(\n",
        "            torch.nn.Dropout(p=0.2),\n",
        "            torch.nn.Linear(in_features=512, out_features=n_timeOfTheYear),\n",
        "            # torch.nn.Softmax()\n",
        "        )\n",
        "        self.place = torch.nn.Sequential(\n",
        "            torch.nn.Dropout(p=0.2),\n",
        "            torch.nn.Linear(in_features=512, out_features=n_place),\n",
        "            # torch.nn.Softmax()\n",
        "        )\n",
        "\n",
        "\n",
        "    def forward(self, x):\n",
        "        x = self.model_wo_fc(x)\n",
        "        x = torch.flatten(x, 1)\n",
        "\n",
        "        return {\n",
        "          'avia': self.avia(x),           \n",
        "          'auto': self.auto(x),                \n",
        "          'bpla': self.bpla(x),\n",
        "          'diver': self.diver(x),\n",
        "          'cynologist': self.cynologist(x),\n",
        "          'horses': self.horses(x),\n",
        "          'hugs': self.hugs(x),\n",
        "          'sherp': self.sherp(x),\n",
        "          'timeday': self.timeOfTheDay(x),\n",
        "          'timeyear': self.timeOfTheYear(x),\n",
        "          'place': self.place(x),       \n",
        "        }\n"
      ],
      "metadata": {
        "id": "mItUlaKsV2Z3"
      },
      "execution_count": 26,
      "outputs": []
    },
    {
      "cell_type": "markdown",
      "source": [
        "Проверим работоспособность (на всякий случай)"
      ],
      "metadata": {
        "id": "oRHuJeyivdlv"
      }
    },
    {
      "cell_type": "code",
      "source": [
        "model = MultilabelClassifier()\n",
        "\n",
        "sample = next(iter(train_loader)) \n",
        "\n",
        "import matplotlib.pyplot as plt\n",
        "from pprint import pprint\n",
        "idx = 0\n",
        "plt.imshow(np.asarray(np.asarray(sample['image'][0].squeeze().permute(1,2,0))))\n",
        "plt.show()\n",
        "pprint([f'{k}: {v.cpu().numpy()[0]}' for k,v in sample['labels'].items()])"
      ],
      "metadata": {
        "id": "FHu9XNR1V6oK",
        "colab": {
          "base_uri": "https://localhost:8080/",
          "height": 509,
          "referenced_widgets": [
            "a571045d3acf4e78b69bd0306bc5460c",
            "21e2d1b97be448459f4709607d8cfba5",
            "4fcbf9ad833040708efb815be497f0f3",
            "4e17f212ce794a6bb8fa4f5ab0546b9d",
            "2a4baefd1f1f48c8a4939fac353cc75c",
            "c89162f9ab9945f0b478e8c3cf9579f7",
            "11ab978dc54043d0beeac3d681f9c965",
            "b5815f2122784487913e13c972f573ac",
            "9e022916fbab4150bb18d15e5baf1472",
            "49137aa352574f6395107e87c1667969",
            "cc544a845d024431aa343ab9dbbed5f3"
          ]
        },
        "outputId": "eb3f41e6-f5a0-49b6-8ad9-c8c2d0412c9f"
      },
      "execution_count": 27,
      "outputs": [
        {
          "output_type": "stream",
          "name": "stderr",
          "text": [
            "Downloading: \"https://download.pytorch.org/models/resnet34-b627a593.pth\" to /root/.cache/torch/hub/checkpoints/resnet34-b627a593.pth\n"
          ]
        },
        {
          "output_type": "display_data",
          "data": {
            "text/plain": [
              "  0%|          | 0.00/83.3M [00:00<?, ?B/s]"
            ],
            "application/vnd.jupyter.widget-view+json": {
              "version_major": 2,
              "version_minor": 0,
              "model_id": "a571045d3acf4e78b69bd0306bc5460c"
            }
          },
          "metadata": {}
        },
        {
          "output_type": "display_data",
          "data": {
            "text/plain": [
              "<Figure size 432x288 with 1 Axes>"
            ],
            "image/png": "[encoded data removed]"
          },
          "metadata": {
            "needs_background": "light"
          }
        },
        {
          "output_type": "stream",
          "name": "stdout",
          "text": [
            "['label_avia: 0',\n",
            " 'label_auto: 0',\n",
            " 'label_bpla: 0',\n",
            " 'label_diver: 0',\n",
            " 'label_cynologist: 0',\n",
            " 'label_horses: 0',\n",
            " 'label_hugs: 0',\n",
            " 'label_sherp: 0',\n",
            " 'label_timeday: 2',\n",
            " 'label_timeyear: 2',\n",
            " 'label_place: 1']\n"
          ]
        }
      ]
    },
    {
      "cell_type": "code",
      "source": [
        "pred = model((sample['image'][:1]))"
      ],
      "metadata": {
        "id": "iWuu__FUwXv6"
      },
      "execution_count": 28,
      "outputs": []
    },
    {
      "cell_type": "code",
      "source": [
        "def predToRes(pred):\n",
        "  res = {}\n",
        "  for k,v in pred.items():\n",
        "    res[k] = v.argmax().item()\n",
        "  return res\n",
        "\n",
        "pprint(predToRes(pred))"
      ],
      "metadata": {
        "colab": {
          "base_uri": "https://localhost:8080/"
        },
        "id": "Nc8M-C-U5RO3",
        "outputId": "269fc157-1cad-4070-862f-f240281c8afa"
      },
      "execution_count": 29,
      "outputs": [
        {
          "output_type": "stream",
          "name": "stdout",
          "text": [
            "{'auto': 0,\n",
            " 'avia': 0,\n",
            " 'bpla': 0,\n",
            " 'cynologist': 0,\n",
            " 'diver': 1,\n",
            " 'horses': 1,\n",
            " 'hugs': 0,\n",
            " 'place': 2,\n",
            " 'sherp': 1,\n",
            " 'timeday': 2,\n",
            " 'timeyear': 2}\n"
          ]
        }
      ]
    },
    {
      "cell_type": "markdown",
      "source": [
        "# Можно приступать к обучению!"
      ],
      "metadata": {
        "id": "45L1vXhSwYH6"
      }
    },
    {
      "cell_type": "code",
      "source": [
        "# Переведём в cuda...\n",
        "if torch.cuda.is_available():\n",
        "    model.cuda()\n",
        "model.train()\n",
        "\n",
        "device = torch.device('cuda' if torch.cuda.is_available() else 'cpu')\n",
        "device\n"
      ],
      "metadata": {
        "colab": {
          "base_uri": "https://localhost:8080/"
        },
        "id": "BwzQxLDeYKhT",
        "outputId": "57056657-d4c7-40cb-872a-fb4157a914ae"
      },
      "execution_count": 30,
      "outputs": [
        {
          "output_type": "execute_result",
          "data": {
            "text/plain": [
              "device(type='cuda')"
            ]
          },
          "metadata": {},
          "execution_count": 30
        }
      ]
    },
    {
      "cell_type": "markdown",
      "source": [
        "### Цикл обучения"
      ],
      "metadata": {
        "id": "_6HfuNzoxpsl"
      }
    },
    {
      "cell_type": "code",
      "source": [
        "# from sklearn.metrics import *\n",
        "# def calculate_metrics(pred, target, threshold=0.5):\n",
        "#     pred = np.array(pred > threshold, dtype=float)\n",
        "#     return {\n",
        "#             # 'micro/precision': precision_score(y_true=target, y_pred=pred, average='micro'),\n",
        "#             # 'micro/recall': recall_score(y_true=target, y_pred=pred, average='micro'),\n",
        "#             # 'micro/f1': f1_score(y_true=target, y_pred=pred, average='micro'),\n",
        "#             'macro/precision': precision_score(y_true=target, y_pred=pred, average='macro'),\n",
        "#             'macro/recall': recall_score(y_true=target, y_pred=pred, average='macro'),\n",
        "#             'macro/f1': f1_score(y_true=target, y_pred=pred, average='macro'),\n",
        "#             # 'samples/precision': precision_score(y_true=target, y_pred=pred, average='samples'),\n",
        "#             # 'samples/recall': recall_score(y_true=target, y_pred=pred, average='samples'),\n",
        "#             # 'samples/f1': f1_score(y_true=target, y_pred=pred, average='samples'),\n",
        "#             }\n",
        "    # from sklearn.metrics import f1_score   \n"
      ],
      "metadata": {
        "id": "_SbzOV4MEhrq"
      },
      "execution_count": 31,
      "outputs": []
    },
    {
      "cell_type": "code",
      "source": [
        "def criterion(loss_func,outputs,pictures):\n",
        "  losses = 0\n",
        "  for i, key in enumerate(outputs):\n",
        "    losses += loss_func(outputs[key], pictures['labels'][f'label_{key}'].to(device))\n",
        "  return losses\n",
        "\n",
        "def training(model,device,lr_rate,epochs,train_loader):\n",
        "  num_epochs = epochs\n",
        "  losses = []\n",
        "  checkpoint_losses = []\n",
        "  stat = []\n",
        "  optimizer = torch.optim.Adam(model.parameters(), lr=lr_rate)\n",
        "  n_total_steps = len(train_loader)\n",
        "\n",
        "  loss_func = nn.CrossEntropyLoss()\n",
        "\n",
        "  for epoch in range(num_epochs):\n",
        "     for i, pictures in enumerate(train_loader):\n",
        "        images = pictures['image'].to(device)\n",
        "        pictures = pictures\n",
        "\n",
        "        outputs = model(images)\n",
        "\n",
        "        loss = criterion(loss_func,outputs, pictures)\n",
        "        losses.append(loss.item())\n",
        "\n",
        "        optimizer.zero_grad()\n",
        "        loss.backward()\n",
        "        optimizer.step()\n",
        "\n",
        "        if (i+1) % (int(n_total_steps/1)) == 0:\n",
        "            checkpoint_loss = torch.tensor(losses).mean().item()\n",
        "            checkpoint_losses.append(checkpoint_loss)\n",
        "            print (f'Epoch [{epoch+1}/{num_epochs}], Step [{i+1}/{n_total_steps}], Loss: {checkpoint_loss:.4f}')\n",
        "            \n",
        "            # # Calc Metric\n",
        "            # model.eval()\n",
        "            # with torch.no_grad():\n",
        "            #     # F1 append\n",
        "            #     corpse = next(iter(test_loader))\n",
        "            #     _f1_score = f1_score(np.array(list(corpse['labels'].values())), np.array(list(predToRes(model(corpse['image'])).values())))\n",
        "            #     stat.append(_f1_score)\n",
        "            # model.train()\n",
        "\n",
        "\n",
        "\n",
        "  return checkpoint_losses\n",
        "\n",
        "checkpoint_losses_2 = training(model, device, 0.0001, 100, train_loader)"
      ],
      "metadata": {
        "id": "lVn7bGc3ZOtk",
        "colab": {
          "base_uri": "https://localhost:8080/"
        },
        "outputId": "8b4314e6-0713-4b17-d797-b2a6f8389392"
      },
      "execution_count": 74,
      "outputs": [
        {
          "output_type": "stream",
          "name": "stdout",
          "text": [
            "Epoch [1/100], Step [12/12], Loss: 0.1864\n",
            "Epoch [2/100], Step [12/12], Loss: 0.1237\n",
            "Epoch [3/100], Step [12/12], Loss: 0.0875\n",
            "Epoch [4/100], Step [12/12], Loss: 0.0674\n",
            "Epoch [5/100], Step [12/12], Loss: 0.0550\n",
            "Epoch [6/100], Step [12/12], Loss: 0.0468\n",
            "Epoch [7/100], Step [12/12], Loss: 0.0405\n",
            "Epoch [8/100], Step [12/12], Loss: 0.0357\n",
            "Epoch [9/100], Step [12/12], Loss: 0.0321\n",
            "Epoch [10/100], Step [12/12], Loss: 0.0291\n",
            "Epoch [11/100], Step [12/12], Loss: 0.0267\n",
            "Epoch [12/100], Step [12/12], Loss: 0.0246\n",
            "Epoch [13/100], Step [12/12], Loss: 0.0229\n",
            "Epoch [14/100], Step [12/12], Loss: 0.0215\n",
            "Epoch [15/100], Step [12/12], Loss: 0.0202\n",
            "Epoch [16/100], Step [12/12], Loss: 0.0191\n",
            "Epoch [17/100], Step [12/12], Loss: 0.0181\n",
            "Epoch [18/100], Step [12/12], Loss: 0.0172\n",
            "Epoch [19/100], Step [12/12], Loss: 0.0165\n",
            "Epoch [20/100], Step [12/12], Loss: 0.0158\n",
            "Epoch [21/100], Step [12/12], Loss: 0.0151\n",
            "Epoch [22/100], Step [12/12], Loss: 0.0146\n",
            "Epoch [23/100], Step [12/12], Loss: 0.0140\n",
            "Epoch [24/100], Step [12/12], Loss: 0.0136\n",
            "Epoch [25/100], Step [12/12], Loss: 0.0131\n",
            "Epoch [26/100], Step [12/12], Loss: 0.0127\n",
            "Epoch [27/100], Step [12/12], Loss: 0.0123\n",
            "Epoch [28/100], Step [12/12], Loss: 0.0120\n",
            "Epoch [29/100], Step [12/12], Loss: 0.0116\n",
            "Epoch [30/100], Step [12/12], Loss: 0.0113\n",
            "Epoch [31/100], Step [12/12], Loss: 0.0110\n",
            "Epoch [32/100], Step [12/12], Loss: 0.0108\n",
            "Epoch [33/100], Step [12/12], Loss: 0.0105\n",
            "Epoch [34/100], Step [12/12], Loss: 0.0103\n",
            "Epoch [35/100], Step [12/12], Loss: 0.0100\n",
            "Epoch [36/100], Step [12/12], Loss: 0.0098\n",
            "Epoch [37/100], Step [12/12], Loss: 0.0096\n",
            "Epoch [38/100], Step [12/12], Loss: 0.0094\n",
            "Epoch [39/100], Step [12/12], Loss: 0.0092\n",
            "Epoch [40/100], Step [12/12], Loss: 0.0091\n",
            "Epoch [41/100], Step [12/12], Loss: 0.0089\n",
            "Epoch [42/100], Step [12/12], Loss: 0.0087\n",
            "Epoch [43/100], Step [12/12], Loss: 0.0086\n",
            "Epoch [44/100], Step [12/12], Loss: 0.0084\n",
            "Epoch [45/100], Step [12/12], Loss: 0.0083\n",
            "Epoch [46/100], Step [12/12], Loss: 0.0082\n",
            "Epoch [47/100], Step [12/12], Loss: 0.0080\n",
            "Epoch [48/100], Step [12/12], Loss: 0.0079\n",
            "Epoch [49/100], Step [12/12], Loss: 0.0078\n",
            "Epoch [50/100], Step [12/12], Loss: 0.0077\n",
            "Epoch [51/100], Step [12/12], Loss: 0.0076\n",
            "Epoch [52/100], Step [12/12], Loss: 0.0075\n",
            "Epoch [53/100], Step [12/12], Loss: 0.0074\n",
            "Epoch [54/100], Step [12/12], Loss: 0.0073\n",
            "Epoch [55/100], Step [12/12], Loss: 0.0072\n",
            "Epoch [56/100], Step [12/12], Loss: 0.0071\n",
            "Epoch [57/100], Step [12/12], Loss: 0.0070\n",
            "Epoch [58/100], Step [12/12], Loss: 0.0070\n",
            "Epoch [59/100], Step [12/12], Loss: 0.0069\n",
            "Epoch [60/100], Step [12/12], Loss: 0.0068\n",
            "Epoch [61/100], Step [12/12], Loss: 0.0067\n",
            "Epoch [62/100], Step [12/12], Loss: 0.0066\n",
            "Epoch [63/100], Step [12/12], Loss: 0.0066\n",
            "Epoch [64/100], Step [12/12], Loss: 0.0065\n",
            "Epoch [65/100], Step [12/12], Loss: 0.0064\n",
            "Epoch [66/100], Step [12/12], Loss: 0.0064\n",
            "Epoch [67/100], Step [12/12], Loss: 0.0063\n",
            "Epoch [68/100], Step [12/12], Loss: 0.0062\n",
            "Epoch [69/100], Step [12/12], Loss: 0.0062\n",
            "Epoch [70/100], Step [12/12], Loss: 0.0061\n",
            "Epoch [71/100], Step [12/12], Loss: 0.0061\n",
            "Epoch [72/100], Step [12/12], Loss: 0.0060\n",
            "Epoch [73/100], Step [12/12], Loss: 0.0060\n",
            "Epoch [74/100], Step [12/12], Loss: 0.0059\n",
            "Epoch [75/100], Step [12/12], Loss: 0.0059\n",
            "Epoch [76/100], Step [12/12], Loss: 0.0058\n",
            "Epoch [77/100], Step [12/12], Loss: 0.0058\n",
            "Epoch [78/100], Step [12/12], Loss: 0.0057\n",
            "Epoch [79/100], Step [12/12], Loss: 0.0057\n",
            "Epoch [80/100], Step [12/12], Loss: 0.0056\n",
            "Epoch [81/100], Step [12/12], Loss: 0.0056\n",
            "Epoch [82/100], Step [12/12], Loss: 0.0056\n",
            "Epoch [83/100], Step [12/12], Loss: 0.0055\n",
            "Epoch [84/100], Step [12/12], Loss: 0.0055\n",
            "Epoch [85/100], Step [12/12], Loss: 0.0054\n",
            "Epoch [86/100], Step [12/12], Loss: 0.0054\n",
            "Epoch [87/100], Step [12/12], Loss: 0.0054\n",
            "Epoch [88/100], Step [12/12], Loss: 0.0053\n",
            "Epoch [89/100], Step [12/12], Loss: 0.0053\n",
            "Epoch [90/100], Step [12/12], Loss: 0.0053\n",
            "Epoch [91/100], Step [12/12], Loss: 0.0052\n",
            "Epoch [92/100], Step [12/12], Loss: 0.0052\n",
            "Epoch [93/100], Step [12/12], Loss: 0.0051\n",
            "Epoch [94/100], Step [12/12], Loss: 0.0051\n",
            "Epoch [95/100], Step [12/12], Loss: 0.0051\n",
            "Epoch [96/100], Step [12/12], Loss: 0.0051\n",
            "Epoch [97/100], Step [12/12], Loss: 0.0050\n",
            "Epoch [98/100], Step [12/12], Loss: 0.0050\n",
            "Epoch [99/100], Step [12/12], Loss: 0.0050\n",
            "Epoch [100/100], Step [12/12], Loss: 0.0049\n"
          ]
        }
      ]
    },
    {
      "cell_type": "code",
      "source": [
        "import seaborn as sns\n",
        "sns.set_theme()\n",
        "import matplotlib.pyplot as plt\n",
        "print(checkpoint_losses)\n",
        "plt.plot(checkpoint_losses)\n",
        "plt.ylabel('Loss')\n",
        "plt.xlabel('Iteration')\n",
        "plt.show()"
      ],
      "metadata": {
        "colab": {
          "base_uri": "https://localhost:8080/",
          "height": 322
        },
        "id": "ngVn12K2CMfK",
        "outputId": "bb1725d2-f122-4360-84a4-e930348cd550"
      },
      "execution_count": 90,
      "outputs": [
        {
          "output_type": "stream",
          "name": "stdout",
          "text": [
            "[3.1906940937042236, 2.201087713241577, 1.6846648454666138, 1.3614338636398315, 1.1385949850082397, 0.9766989946365356, 0.8556922674179077, 0.7615925669670105, 0.6870082020759583, 0.6261078715324402, 0.5751165151596069, 0.5322057008743286, 0.49531546235084534, 0.4632260501384735, 0.43501782417297363, 0.4103526771068573, 0.38835471868515015, 0.3686767816543579, 0.3508414924144745, 0.3347245454788208, 0.3201213479042053, 0.3067944645881653, 0.29452601075172424, 0.2833673059940338, 0.2730288803577423, 0.26335588097572327, 0.25432491302490234, 0.24595391750335693, 0.23810888826847076, 0.2307257503271103, 0.2238749861717224, 0.21738672256469727, 0.21126601099967957, 0.2055366337299347, 0.2000504434108734, 0.194928377866745, 0.1900651901960373, 0.18537317216396332, 0.18092131614685059, 0.17668472230434418, 0.17268270254135132, 0.16887395083904266, 0.16523979604244232, 0.16177256405353546, 0.15848171710968018, 0.15528789162635803, 0.1522226482629776, 0.14925289154052734, 0.14640742540359497, 0.14369983971118927, 0.1410897970199585, 0.1385929435491562, 0.13614900410175323, 0.1337941437959671, 0.13152508437633514, 0.12935331463813782, 0.12724493443965912, 0.12518198788166046, 0.1231900304555893, 0.12125058472156525, 0.11937859654426575, 0.11757692694664001, 0.11585855484008789, 0.11415290087461472, 0.11251311004161835, 0.11092215031385422, 0.10938254743814468, 0.10788650810718536, 0.10643690824508667, 0.10501715540885925, 0.10363773256540298, 0.10230479389429092, 0.10107158869504929, 0.10017561912536621, 0.10018584877252579, 0.1007540300488472, 0.10105230659246445, 0.10094240307807922, 0.10058540105819702, 0.0999334529042244, 0.09903012216091156, 0.09806248545646667, 0.09711875766515732, 0.09612234681844711, 0.09514438360929489, 0.09416086226701736, 0.09319482743740082, 0.09225960075855255, 0.09132031351327896, 0.09039164334535599, 0.08948732167482376, 0.08859231323003769, 0.08772152662277222, 0.08686191588640213, 0.0860128253698349, 0.08518350124359131, 0.08437399566173553, 0.0835784375667572, 0.08279688656330109, 0.0820225179195404]\n"
          ]
        },
        {
          "output_type": "display_data",
          "data": {
            "text/plain": [
              "<Figure size 432x288 with 1 Axes>"
            ],
            "image/png": "[encoded data removed]"
          },
          "metadata": {}
        }
      ]
    },
    {
      "cell_type": "code",
      "source": [
        "import matplotlib.pyplot as plt\n",
        "print(checkpoint_losses_2, )\n",
        "plt.plot(range(100,200), checkpoint_losses_2,)\n",
        "plt.ylabel('Loss')\n",
        "plt.xlabel('Iteration')\n",
        "plt.show()"
      ],
      "metadata": {
        "colab": {
          "base_uri": "https://localhost:8080/",
          "height": 322
        },
        "id": "i2X6RIO4pIwg",
        "outputId": "f3f4ce67-10d7-4ad4-e0a7-b157e557149d"
      },
      "execution_count": 91,
      "outputs": [
        {
          "output_type": "stream",
          "name": "stdout",
          "text": [
            "[0.18644875288009644, 0.1237148568034172, 0.08750271052122116, 0.06742628663778305, 0.05502510443329811, 0.04679609462618828, 0.04051409289240837, 0.03573964163661003, 0.03210160508751869, 0.02909512259066105, 0.026654928922653198, 0.02464325539767742, 0.02291221357882023, 0.021492214873433113, 0.020196717232465744, 0.01906823180615902, 0.018096480518579483, 0.01721450313925743, 0.016462888568639755, 0.01576780341565609, 0.01512521505355835, 0.014556660316884518, 0.014028791338205338, 0.013552535325288773, 0.013120207004249096, 0.012706590816378593, 0.012342785485088825, 0.011983465403318405, 0.011645292863249779, 0.011337464675307274, 0.011039053089916706, 0.010758358985185623, 0.010514847002923489, 0.010261704213917255, 0.010030380450189114, 0.009820287115871906, 0.009612618014216423, 0.009415066801011562, 0.009228825569152832, 0.009051742032170296, 0.008882795460522175, 0.008722569793462753, 0.008570240810513496, 0.008426638320088387, 0.008281072601675987, 0.008156650699675083, 0.008034863509237766, 0.007909039966762066, 0.007798564620316029, 0.007692372892051935, 0.0075819119811058044, 0.007476993836462498, 0.007378153037279844, 0.007288115099072456, 0.007199494168162346, 0.0071096946485340595, 0.0070434813387691975, 0.00695315795019269, 0.006870269309729338, 0.006799018941819668, 0.006720703095197678, 0.006644172128289938, 0.00657653296366334, 0.006505487021058798, 0.006440150551497936, 0.006372520234435797, 0.006307576317340136, 0.0062449038960039616, 0.006185904610902071, 0.006131887435913086, 0.0060783675871789455, 0.00602327287197113, 0.005978140514343977, 0.0059234388172626495, 0.005871335044503212, 0.005821067839860916, 0.005775122437626123, 0.005725135561078787, 0.0056794313713908195, 0.005635998211801052, 0.00559523468837142, 0.005551534239202738, 0.005516373552381992, 0.005478101782500744, 0.0054372078739106655, 0.00539833540096879, 0.005359018687158823, 0.0053208679892122746, 0.005284873303025961, 0.005251023918390274, 0.005216181743890047, 0.005183475092053413, 0.005149313248693943, 0.005115264095366001, 0.005085424520075321, 0.0050519779324531555, 0.005020445678383112, 0.004993450827896595, 0.00496392697095871, 0.00493606785312295]\n"
          ]
        },
        {
          "output_type": "display_data",
          "data": {
            "text/plain": [
              "<Figure size 432x288 with 1 Axes>"
            ],
            "image/png": "[encoded data removed]"
          },
          "metadata": {}
        }
      ]
    },
    {
      "cell_type": "code",
      "source": [
        " import matplotlib.pyplot as plt\n",
        "print(checkpoint_losses_2, )\n",
        "plt.plot(range(0,200), checkpoint_losses + checkpoint_losses_2,)\n",
        "plt.ylabel('Loss')\n",
        "plt.xlabel('Iteration')\n",
        "plt.show()\n",
        " "
      ],
      "metadata": {
        "colab": {
          "base_uri": "https://localhost:8080/",
          "height": 322
        },
        "id": "KLN3VrSexZWX",
        "outputId": "67670ec9-6cae-4b2a-dd5b-d41d217e186c"
      },
      "execution_count": 94,
      "outputs": [
        {
          "output_type": "stream",
          "name": "stdout",
          "text": [
            "[0.18644875288009644, 0.1237148568034172, 0.08750271052122116, 0.06742628663778305, 0.05502510443329811, 0.04679609462618828, 0.04051409289240837, 0.03573964163661003, 0.03210160508751869, 0.02909512259066105, 0.026654928922653198, 0.02464325539767742, 0.02291221357882023, 0.021492214873433113, 0.020196717232465744, 0.01906823180615902, 0.018096480518579483, 0.01721450313925743, 0.016462888568639755, 0.01576780341565609, 0.01512521505355835, 0.014556660316884518, 0.014028791338205338, 0.013552535325288773, 0.013120207004249096, 0.012706590816378593, 0.012342785485088825, 0.011983465403318405, 0.011645292863249779, 0.011337464675307274, 0.011039053089916706, 0.010758358985185623, 0.010514847002923489, 0.010261704213917255, 0.010030380450189114, 0.009820287115871906, 0.009612618014216423, 0.009415066801011562, 0.009228825569152832, 0.009051742032170296, 0.008882795460522175, 0.008722569793462753, 0.008570240810513496, 0.008426638320088387, 0.008281072601675987, 0.008156650699675083, 0.008034863509237766, 0.007909039966762066, 0.007798564620316029, 0.007692372892051935, 0.0075819119811058044, 0.007476993836462498, 0.007378153037279844, 0.007288115099072456, 0.007199494168162346, 0.0071096946485340595, 0.0070434813387691975, 0.00695315795019269, 0.006870269309729338, 0.006799018941819668, 0.006720703095197678, 0.006644172128289938, 0.00657653296366334, 0.006505487021058798, 0.006440150551497936, 0.006372520234435797, 0.006307576317340136, 0.0062449038960039616, 0.006185904610902071, 0.006131887435913086, 0.0060783675871789455, 0.00602327287197113, 0.005978140514343977, 0.0059234388172626495, 0.005871335044503212, 0.005821067839860916, 0.005775122437626123, 0.005725135561078787, 0.0056794313713908195, 0.005635998211801052, 0.00559523468837142, 0.005551534239202738, 0.005516373552381992, 0.005478101782500744, 0.0054372078739106655, 0.00539833540096879, 0.005359018687158823, 0.0053208679892122746, 0.005284873303025961, 0.005251023918390274, 0.005216181743890047, 0.005183475092053413, 0.005149313248693943, 0.005115264095366001, 0.005085424520075321, 0.0050519779324531555, 0.005020445678383112, 0.004993450827896595, 0.00496392697095871, 0.00493606785312295]\n"
          ]
        },
        {
          "output_type": "display_data",
          "data": {
            "text/plain": [
              "<Figure size 432x288 with 1 Axes>"
            ],
            "image/png": "[encoded data removed]"
          },
          "metadata": {}
        }
      ]
    },
    {
      "cell_type": "code",
      "source": [
        "# import matplotlib.pyplot as plt\n",
        "# print(stat)\n",
        "# plt.plot(stat)\n",
        "# plt.ylabel('F1')\n",
        "# plt.show()"
      ],
      "metadata": {
        "id": "3cvx8ZS8OFq7"
      },
      "execution_count": null,
      "outputs": []
    },
    {
      "cell_type": "code",
      "source": [
        "torch.save(model, '/mydrive/backup/model_last_gpu__lastlast.pth')"
      ],
      "metadata": {
        "id": "u9pRo0bmoJxw"
      },
      "execution_count": 76,
      "outputs": []
    },
    {
      "cell_type": "code",
      "source": [
        "assert False"
      ],
      "metadata": {
        "id": "D-DyV-kaP1hu"
      },
      "execution_count": null,
      "outputs": []
    },
    {
      "cell_type": "markdown",
      "source": [
        "# 3. Протестировать модель ручками!\n"
      ],
      "metadata": {
        "id": "h7Q7cbKxofnC"
      }
    },
    {
      "cell_type": "code",
      "source": [
        "def upload():\n",
        "  from google.colab import files\n",
        "  uploaded = files.upload() \n",
        "  for name, data in uploaded.items():\n",
        "    with open(name, 'wb') as f:\n",
        "      f.write(data)\n",
        "      print ('saved file', name)\n",
        "      return name\n",
        "filename = upload()"
      ],
      "metadata": {
        "id": "LI5iH6gqruKb",
        "colab": {
          "resources": {
            "http://localhost:8080/nbextensions/google.colab/files.js": {
              "data": "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",
              "ok": true,
              "headers": [
                [
                  "content-type",
                  "application/javascript"
                ]
              ],
              "status": 200,
              "status_text": ""
            }
          },
          "base_uri": "https://localhost:8080/",
          "height": 90
        },
        "outputId": "b9604844-b74e-48df-a9ca-94a219f52ada"
      },
      "execution_count": 138,
      "outputs": [
        {
          "output_type": "display_data",
          "data": {
            "text/plain": [
              "<IPython.core.display.HTML object>"
            ],
            "text/html": [
              "\n",
              "     <input type=\"file\" id=\"files-78dd611a-579e-4802-8a1a-19cbdc57c850\" name=\"files[]\" multiple disabled\n",
              "        style=\"border:none\" />\n",
              "     <output id=\"result-78dd611a-579e-4802-8a1a-19cbdc57c850\">\n",
              "      Upload widget is only available when the cell has been executed in the\n",
              "      current browser session. Please rerun this cell to enable.\n",
              "      </output>\n",
              "      <script src=\"/nbextensions/google.colab/files.js\"></script> "
            ]
          },
          "metadata": {}
        },
        {
          "output_type": "stream",
          "name": "stdout",
          "text": [
            "Saving vp9j4bsaKNE.jpg to vp9j4bsaKNE.jpg\n",
            "saved file vp9j4bsaKNE.jpg\n"
          ]
        }
      ]
    },
    {
      "cell_type": "code",
      "source": [
        "# model = torch.load('/mydrive/backup/model_last.pth')\n",
        "# torch.save(model, '/mydrive/backup/model_last_gpu.pth')"
      ],
      "metadata": {
        "id": "PMfr_aUZBZx4"
      },
      "execution_count": 67,
      "outputs": []
    },
    {
      "cell_type": "code",
      "source": [
        "device = torch.device('cpu' if torch.cuda.is_available() else 'cpu')\n",
        "device\n",
        "# model.load_state_dict(torch.load('/mydrive/backup/model_iter_2133_epoch_82.pth', map_location=device))\n",
        "model.eval()\n",
        "\n",
        "photo = transform(Image.open(filename))\n",
        "plt.imshow(photo.permute(1,2,0))\n",
        "plt.show()\n",
        "if torch.cuda.is_available():\n",
        "  photo = photo.to(device)\n",
        "photo = photo.unsqueeze(0)\n",
        "\n",
        "pred = model(photo)\n",
        "\n",
        "pprint(predToRes(pred))\n",
        "\n"
      ],
      "metadata": {
        "id": "4ZnAtqUuou7A",
        "colab": {
          "base_uri": "https://localhost:8080/",
          "height": 462
        },
        "outputId": "4f9f2e41-9445-408c-ae88-6d7a769f8041"
      },
      "execution_count": 140,
      "outputs": [
        {
          "output_type": "display_data",
          "data": {
            "text/plain": [
              "<Figure size 432x288 with 1 Axes>"
            ],
            "image/png": "[encoded data removed]"
          },
          "metadata": {}
        },
        {
          "output_type": "stream",
          "name": "stdout",
          "text": [
            "{'auto': 0,\n",
            " 'avia': 0,\n",
            " 'bpla': 0,\n",
            " 'cynologist': 0,\n",
            " 'diver': 0,\n",
            " 'horses': 1,\n",
            " 'hugs': 0,\n",
            " 'place': 0,\n",
            " 'sherp': 0,\n",
            " 'timeday': 1,\n",
            " 'timeyear': 1}\n"
          ]
        }
      ]
    },
    {
      "cell_type": "markdown",
      "source": [
        "# (⊙_⊙) оно работает"
      ],
      "metadata": {
        "id": "rXo9J8vbDjHR"
      }
    },
    {
      "cell_type": "markdown",
      "source": [
        "# Метрики модели\n",
        "48 часов без сна приводят к тому что методы из библиотеки применять не получается. Быстрее было написать свой F1. Так мы и сделали."
      ],
      "metadata": {
        "id": "g4jI6UJXm0RI"
      }
    },
    {
      "cell_type": "code",
      "source": [
        "model.eval()\n",
        "def evalu(model,device,test_loader, field):\n",
        "  tp,fp,fn,tn=0,0,0,0\n",
        "  outputs = 0\n",
        "  for i, pictures in enumerate(test_loader):\n",
        "        with torch.no_grad():\n",
        "        \n",
        "            images = pictures['image'].to(device)\n",
        "            pictures = pictures\n",
        "\n",
        "            outputs = model(images)\n",
        "            outpootis = np.array([k.argmax().item() for k in outputs[field]])\n",
        "\n",
        "            truth = pictures['labels'][f'label_{field}'].numpy()\n",
        "            prediction = outpootis\n",
        "            for i in range(0, len(prediction)):\n",
        "              if truth[i] == prediction[i] and truth[i] == 1:\n",
        "                tp+=1\n",
        "              if truth[i] != prediction[i] and truth[i] == 1:\n",
        "                fn+=1\n",
        "              if truth[i] == prediction[i] and truth[i] == 0:\n",
        "                tn+=1\n",
        "              if truth[i] != prediction[i] and truth[i] == 0:\n",
        "                fp+=1\n",
        "            \n",
        "            # for k in zip(list(outputs.values())):\n",
        "            # break\n",
        "\n",
        "\n",
        "  precision = tp / (tp+fp)\n",
        "  recall = tp / (tp+fn)\n",
        "  f1 = 2*tp / (2*tp + fp + fn)\n",
        "  return f1\n",
        "\n",
        "device=torch.device('cpu')\n",
        "model = torch.load('/mydrive/backup/model_last_gpu__lastlast.pth')\n",
        "model = model.to(device)\n",
        "test_loader = DataLoader(test_data, batch_size=1, shuffle=True)"
      ],
      "metadata": {
        "id": "mDp5CLRQnBg2"
      },
      "execution_count": 142,
      "outputs": []
    },
    {
      "cell_type": "code",
      "source": [
        "#Last weights\n",
        "device=torch.device('cpu')\n",
        "model = torch.load('/mydrive/backup/model_last_gpu__lastlast.pth')\n",
        "model = model.to(device)\n",
        "test_loader = DataLoader(test_data, batch_size=1, shuffle=True)\n",
        "print(lad.classes)\n",
        "f1_last = [\n",
        "  evalu(model, device, test_loader, 'avia'),\n",
        "  evalu(model, device, test_loader, 'auto'),\n",
        "  evalu(model, device, test_loader, 'bpla'),\n",
        "  evalu(model, device, test_loader, 'diver'),\n",
        "  evalu(model, device, test_loader, 'cynologist'),\n",
        "  evalu(model, device, test_loader, 'horses'),\n",
        "  evalu(model, device, test_loader, 'hugs'),\n",
        "  evalu(model, device, test_loader, 'sherp'),\n",
        "]\n",
        "print(f1_last)"
      ],
      "metadata": {
        "colab": {
          "base_uri": "https://localhost:8080/"
        },
        "id": "kPHFUe5v1mW5",
        "outputId": "e144d71f-287c-4f3e-b2ab-0617daf22faf"
      },
      "execution_count": 148,
      "outputs": [
        {
          "output_type": "stream",
          "name": "stdout",
          "text": [
            "['label_avia', 'label_auto', 'label_bpla', 'label_diver', 'label_cynologist', 'label_horses', 'label_hugs', 'label_sherp', 'label_timeday', 'label_timeyear', 'label_place']\n",
            "[0.7692307692307693, 0.96, 0.8571428571428571, 0.9990281827016521, 0.9796839729119639, 0.9753694581280788, 0.9734513274336283, 0.989010989010989]\n"
          ]
        }
      ]
    },
    {
      "cell_type": "code",
      "source": [
        "#F1 for 200 iterations\n",
        "print('%.10f' % (sum(f1_last)/8))"
      ],
      "metadata": {
        "colab": {
          "base_uri": "https://localhost:8080/"
        },
        "id": "KCAxf5PHSTp5",
        "outputId": "11ed6b69-14c3-496b-aefc-d36be8a5d251"
      },
      "execution_count": 144,
      "outputs": [
        {
          "output_type": "stream",
          "name": "stdout",
          "text": [
            "0.9378646946\n"
          ]
        }
      ]
    },
    {
      "cell_type": "markdown",
      "source": [
        "### Ура! Модель не переобучилась, чего мы очень боялись, и вышла довольно точной. Ура! Всё было не зря!\n",
        "\n"
      ],
      "metadata": {
        "id": "41Ipeu3GYCvU"
      }
    },
    {
      "cell_type": "markdown",
      "source": [
        "## Предсказание для приватного датасета"
      ],
      "metadata": {
        "id": "hMTUzg-zYns_"
      }
    },
    {
      "cell_type": "code",
      "source": [
        ""
      ],
      "metadata": {
        "id": "18vVvTouYmkv"
      },
      "execution_count": null,
      "outputs": []
    }
  ]
}